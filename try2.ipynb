{
 "cells": [
  {
   "cell_type": "code",
   "execution_count": 1,
   "metadata": {},
   "outputs": [],
   "source": [
    "import findspark\n",
    "findspark.init('/usr/local/spark')"
   ]
  },
  {
   "cell_type": "code",
   "execution_count": 2,
   "metadata": {},
   "outputs": [
    {
     "data": {
      "text/plain": [
       "[Row(_c0=2001, _c1=49.94357, _c2=21.47114, _c3=73.0775, _c4=8.74861, _c5=-17.40628, _c6=-13.09905, _c7=-25.01202, _c8=-12.23257, _c9=7.83089, _c10=-2.46783, _c11=3.32136, _c12=-2.31521, _c13=10.20556, _c14=611.10913, _c15=951.0896, _c16=698.11428, _c17=408.98485, _c18=383.70912, _c19=326.51512, _c20=238.11327, _c21=251.42414, _c22=187.17351, _c23=100.42652, _c24=179.19498, _c25=-8.41558, _c26=-317.87038, _c27=95.86266, _c28=48.10259, _c29=-95.66303, _c30=-18.06215, _c31=1.96984, _c32=34.42438, _c33=11.7267, _c34=1.3679, _c35=7.79444, _c36=-0.36994, _c37=-133.67852, _c38=-83.26165, _c39=-37.29765, _c40=73.04667, _c41=-37.36684, _c42=-3.13853, _c43=-24.21531, _c44=-13.23066, _c45=15.93809, _c46=-18.60478, _c47=82.15479, _c48=240.5798, _c49=-10.29407, _c50=31.58431, _c51=-25.38187, _c52=-3.90772, _c53=13.29258, _c54=41.5506, _c55=-7.26272, _c56=-21.00863, _c57=105.50848, _c58=64.29856, _c59=26.08481, _c60=-44.5911, _c61=-8.30657, _c62=7.93706, _c63=-10.7366, _c64=-95.44766, _c65=-82.03307, _c66=-35.59194, _c67=4.69525, _c68=70.95626, _c69=28.09139, _c70=6.02015, _c71=-37.13767, _c72=-41.1245, _c73=-8.40816, _c74=7.19877, _c75=-8.60176, _c76=-5.90857, _c77=-12.32437, _c78=14.68734, _c79=-54.32125, _c80=40.14786, _c81=13.0162, _c82=-54.40548, _c83=58.99367, _c84=15.37344, _c85=1.11144, _c86=-23.08793, _c87=68.40795, _c88=-1.82223, _c89=-27.46348, _c90=2.26327)]"
      ]
     },
     "execution_count": 2,
     "metadata": {},
     "output_type": "execute_result"
    }
   ],
   "source": [
    "from pyspark import SparkConf, SparkContext\n",
    "from pyspark.sql import SQLContext\n",
    "sc= SparkContext()\n",
    "sqlContext = SQLContext(sc)\n",
    "house_df = sqlContext.read.format('com.databricks.spark.csv').options(header='false', inferschema='true').load('YearPredictionMSD.txt')\n",
    "house_df.take(1)"
   ]
  },
  {
   "cell_type": "code",
   "execution_count": 3,
   "metadata": {},
   "outputs": [
    {
     "name": "stdout",
     "output_type": "stream",
     "text": [
      "root\n",
      " |-- _c0: integer (nullable = true)\n",
      " |-- _c1: double (nullable = true)\n",
      " |-- _c2: double (nullable = true)\n",
      " |-- _c3: double (nullable = true)\n",
      " |-- _c4: double (nullable = true)\n",
      " |-- _c5: double (nullable = true)\n",
      " |-- _c6: double (nullable = true)\n",
      " |-- _c7: double (nullable = true)\n",
      " |-- _c8: double (nullable = true)\n",
      " |-- _c9: double (nullable = true)\n",
      " |-- _c10: double (nullable = true)\n",
      " |-- _c11: double (nullable = true)\n",
      " |-- _c12: double (nullable = true)\n",
      " |-- _c13: double (nullable = true)\n",
      " |-- _c14: double (nullable = true)\n",
      " |-- _c15: double (nullable = true)\n",
      " |-- _c16: double (nullable = true)\n",
      " |-- _c17: double (nullable = true)\n",
      " |-- _c18: double (nullable = true)\n",
      " |-- _c19: double (nullable = true)\n",
      " |-- _c20: double (nullable = true)\n",
      " |-- _c21: double (nullable = true)\n",
      " |-- _c22: double (nullable = true)\n",
      " |-- _c23: double (nullable = true)\n",
      " |-- _c24: double (nullable = true)\n",
      " |-- _c25: double (nullable = true)\n",
      " |-- _c26: double (nullable = true)\n",
      " |-- _c27: double (nullable = true)\n",
      " |-- _c28: double (nullable = true)\n",
      " |-- _c29: double (nullable = true)\n",
      " |-- _c30: double (nullable = true)\n",
      " |-- _c31: double (nullable = true)\n",
      " |-- _c32: double (nullable = true)\n",
      " |-- _c33: double (nullable = true)\n",
      " |-- _c34: double (nullable = true)\n",
      " |-- _c35: double (nullable = true)\n",
      " |-- _c36: double (nullable = true)\n",
      " |-- _c37: double (nullable = true)\n",
      " |-- _c38: double (nullable = true)\n",
      " |-- _c39: double (nullable = true)\n",
      " |-- _c40: double (nullable = true)\n",
      " |-- _c41: double (nullable = true)\n",
      " |-- _c42: double (nullable = true)\n",
      " |-- _c43: double (nullable = true)\n",
      " |-- _c44: double (nullable = true)\n",
      " |-- _c45: double (nullable = true)\n",
      " |-- _c46: double (nullable = true)\n",
      " |-- _c47: double (nullable = true)\n",
      " |-- _c48: double (nullable = true)\n",
      " |-- _c49: double (nullable = true)\n",
      " |-- _c50: double (nullable = true)\n",
      " |-- _c51: double (nullable = true)\n",
      " |-- _c52: double (nullable = true)\n",
      " |-- _c53: double (nullable = true)\n",
      " |-- _c54: double (nullable = true)\n",
      " |-- _c55: double (nullable = true)\n",
      " |-- _c56: double (nullable = true)\n",
      " |-- _c57: double (nullable = true)\n",
      " |-- _c58: double (nullable = true)\n",
      " |-- _c59: double (nullable = true)\n",
      " |-- _c60: double (nullable = true)\n",
      " |-- _c61: double (nullable = true)\n",
      " |-- _c62: double (nullable = true)\n",
      " |-- _c63: double (nullable = true)\n",
      " |-- _c64: double (nullable = true)\n",
      " |-- _c65: double (nullable = true)\n",
      " |-- _c66: double (nullable = true)\n",
      " |-- _c67: double (nullable = true)\n",
      " |-- _c68: double (nullable = true)\n",
      " |-- _c69: double (nullable = true)\n",
      " |-- _c70: double (nullable = true)\n",
      " |-- _c71: double (nullable = true)\n",
      " |-- _c72: double (nullable = true)\n",
      " |-- _c73: double (nullable = true)\n",
      " |-- _c74: double (nullable = true)\n",
      " |-- _c75: double (nullable = true)\n",
      " |-- _c76: double (nullable = true)\n",
      " |-- _c77: double (nullable = true)\n",
      " |-- _c78: double (nullable = true)\n",
      " |-- _c79: double (nullable = true)\n",
      " |-- _c80: double (nullable = true)\n",
      " |-- _c81: double (nullable = true)\n",
      " |-- _c82: double (nullable = true)\n",
      " |-- _c83: double (nullable = true)\n",
      " |-- _c84: double (nullable = true)\n",
      " |-- _c85: double (nullable = true)\n",
      " |-- _c86: double (nullable = true)\n",
      " |-- _c87: double (nullable = true)\n",
      " |-- _c88: double (nullable = true)\n",
      " |-- _c89: double (nullable = true)\n",
      " |-- _c90: double (nullable = true)\n",
      "\n"
     ]
    }
   ],
   "source": [
    "#house_df.cache() #not enough memory storage\n",
    "house_df.printSchema()"
   ]
  },
  {
   "cell_type": "code",
   "execution_count": 4,
   "metadata": {},
   "outputs": [
    {
     "data": {
      "text/plain": [
       "'import pandas as pd\\nhouse_df.describe().toPandas().transpose()'"
      ]
     },
     "execution_count": 4,
     "metadata": {},
     "output_type": "execute_result"
    }
   ],
   "source": [
    "'''import pandas as pd\n",
    "house_df.describe().toPandas().transpose()'''"
   ]
  },
  {
   "cell_type": "code",
   "execution_count": 5,
   "metadata": {},
   "outputs": [
    {
     "name": "stdout",
     "output_type": "stream",
     "text": [
      "Correlation to Year Song Was Published for  _c0 1.0\n",
      "Correlation to Year Song Was Published for  _c1 0.22537353164518467\n",
      "Correlation to Year Song Was Published for  _c2 0.021401940477790267\n",
      "Correlation to Year Song Was Published for  _c3 -0.1395409003929431\n",
      "Correlation to Year Song Was Published for  _c4 -0.003285930718020744\n",
      "Correlation to Year Song Was Published for  _c5 0.01933810175956383\n",
      "Correlation to Year Song Was Published for  _c6 -0.1874431648512607\n",
      "Correlation to Year Song Was Published for  _c7 0.11045983325926205\n",
      "Correlation to Year Song Was Published for  _c8 -0.034976609716785255\n",
      "Correlation to Year Song Was Published for  _c9 -0.024795785634134346\n",
      "Correlation to Year Song Was Published for  _c10 0.03317958273460323\n",
      "Correlation to Year Song Was Published for  _c11 0.03051394371282924\n",
      "Correlation to Year Song Was Published for  _c12 -0.0971636958428229\n",
      "Correlation to Year Song Was Published for  _c13 0.023283586485631707\n",
      "Correlation to Year Song Was Published for  _c14 0.07869981810536454\n",
      "Correlation to Year Song Was Published for  _c15 -0.007228785558230005\n",
      "Correlation to Year Song Was Published for  _c16 0.03282861163325055\n",
      "Correlation to Year Song Was Published for  _c17 0.030660635453203806\n",
      "Correlation to Year Song Was Published for  _c18 0.021965066162758333\n",
      "Correlation to Year Song Was Published for  _c19 -0.004511553117954731\n",
      "Correlation to Year Song Was Published for  _c20 0.08705678129024846\n",
      "Correlation to Year Song Was Published for  _c21 -0.05666413685608379\n",
      "Correlation to Year Song Was Published for  _c22 0.049735529782072505\n",
      "Correlation to Year Song Was Published for  _c23 0.04636742719115374\n",
      "Correlation to Year Song Was Published for  _c24 -0.058199994925501985\n",
      "Correlation to Year Song Was Published for  _c25 0.06471288534113548\n",
      "Correlation to Year Song Was Published for  _c26 -0.018138800158704557\n",
      "Correlation to Year Song Was Published for  _c27 -0.023176845415764053\n",
      "Correlation to Year Song Was Published for  _c28 0.008783924106444858\n",
      "Correlation to Year Song Was Published for  _c29 0.0733269755999847\n",
      "Correlation to Year Song Was Published for  _c30 0.0178507682068295\n",
      "Correlation to Year Song Was Published for  _c31 -0.07392780024357277\n",
      "Correlation to Year Song Was Published for  _c32 0.02700032200208013\n",
      "Correlation to Year Song Was Published for  _c33 -0.09118605894299985\n",
      "Correlation to Year Song Was Published for  _c34 0.04304699318376957\n",
      "Correlation to Year Song Was Published for  _c35 -0.04396705647110813\n",
      "Correlation to Year Song Was Published for  _c36 -0.10100656683506597\n",
      "Correlation to Year Song Was Published for  _c37 -0.041283577197134075\n",
      "Correlation to Year Song Was Published for  _c38 0.07442364425564664\n",
      "Correlation to Year Song Was Published for  _c39 0.07033970619662315\n",
      "Correlation to Year Song Was Published for  _c40 -0.12397442859538954\n",
      "Correlation to Year Song Was Published for  _c41 -0.06081772501809381\n",
      "Correlation to Year Song Was Published for  _c42 0.014304976049654144\n",
      "Correlation to Year Song Was Published for  _c43 -0.0003749351592762048\n",
      "Correlation to Year Song Was Published for  _c44 0.013014651990740205\n",
      "Correlation to Year Song Was Published for  _c45 0.012700041660304934\n",
      "Correlation to Year Song Was Published for  _c46 -0.10132443342515329\n",
      "Correlation to Year Song Was Published for  _c47 0.09608812618833949\n",
      "Correlation to Year Song Was Published for  _c48 -0.04684226961068509\n",
      "Correlation to Year Song Was Published for  _c49 -0.03236214392013423\n",
      "Correlation to Year Song Was Published for  _c50 -0.0629253359379438\n",
      "Correlation to Year Song Was Published for  _c51 0.026813412062810852\n",
      "Correlation to Year Song Was Published for  _c52 -0.053081832964873135\n",
      "Correlation to Year Song Was Published for  _c53 0.07405163129827375\n",
      "Correlation to Year Song Was Published for  _c54 -0.04761606798975249\n",
      "Correlation to Year Song Was Published for  _c55 0.011094764193985595\n",
      "Correlation to Year Song Was Published for  _c56 0.007191543349202336\n",
      "Correlation to Year Song Was Published for  _c57 -0.09697331002958542\n",
      "Correlation to Year Song Was Published for  _c58 -0.00499711813902942\n",
      "Correlation to Year Song Was Published for  _c59 -0.09274697824523466\n",
      "Correlation to Year Song Was Published for  _c60 -0.06716394112045396\n",
      "Correlation to Year Song Was Published for  _c61 -0.024851381022154045\n",
      "Correlation to Year Song Was Published for  _c62 -0.043648845927137754\n",
      "Correlation to Year Song Was Published for  _c63 -0.12634841300435332\n",
      "Correlation to Year Song Was Published for  _c64 0.0003960899537006526\n",
      "Correlation to Year Song Was Published for  _c65 -0.03902889727131554\n",
      "Correlation to Year Song Was Published for  _c66 -0.05440976556506972\n",
      "Correlation to Year Song Was Published for  _c67 -0.10284108120543702\n",
      "Correlation to Year Song Was Published for  _c68 0.0813414258877539\n",
      "Correlation to Year Song Was Published for  _c69 -0.0994836970298869\n",
      "Correlation to Year Song Was Published for  _c70 0.04704174846364762\n",
      "Correlation to Year Song Was Published for  _c71 -0.006023554295768413\n",
      "Correlation to Year Song Was Published for  _c72 -0.06827202093065785\n",
      "Correlation to Year Song Was Published for  _c73 0.08375454592853765\n",
      "Correlation to Year Song Was Published for  _c74 0.0817481341760452\n",
      "Correlation to Year Song Was Published for  _c75 0.028522920113520957\n",
      "Correlation to Year Song Was Published for  _c76 0.012844524485241945\n",
      "Correlation to Year Song Was Published for  _c77 -0.014097618251154886\n",
      "Correlation to Year Song Was Published for  _c78 -0.0873856774142649\n",
      "Correlation to Year Song Was Published for  _c79 0.03139179233481735\n",
      "Correlation to Year Song Was Published for  _c80 -0.004890489908625583\n",
      "Correlation to Year Song Was Published for  _c81 -0.04006862964132297\n",
      "Correlation to Year Song Was Published for  _c82 0.0024918792451795848\n",
      "Correlation to Year Song Was Published for  _c83 0.01404070491127458\n",
      "Correlation to Year Song Was Published for  _c84 0.02760986326831562\n",
      "Correlation to Year Song Was Published for  _c85 0.05947704705392731\n",
      "Correlation to Year Song Was Published for  _c86 -0.053547962794526845\n",
      "Correlation to Year Song Was Published for  _c87 0.02458886727670894\n",
      "Correlation to Year Song Was Published for  _c88 -0.03743227167022345\n",
      "Correlation to Year Song Was Published for  _c89 0.008380161537583669\n",
      "Correlation to Year Song Was Published for  _c90 -0.05648534946393784\n"
     ]
    }
   ],
   "source": [
    "import six\n",
    "for i in house_df.columns:\n",
    "    if not( isinstance(house_df.select(i).take(1)[0][0], six.string_types)):\n",
    "        print( \"Correlation to Year Song Was Published for \", i, house_df.stat.corr('_c0',i))"
   ]
  },
  {
   "cell_type": "markdown",
   "metadata": {},
   "source": [
    "The correlation coefficient ranges from –1 to 1. When it is close to 1, it means that there is a strong positive correlation; for example, the median value tends to go up when the number of rooms goes up. When the coefficient is close to –1, it means that there is a strong negative correlation; the median value tends to go down when the percentage of the lower status of the population goes up. Finally, coefficients close to zero mean that there is no linear correlation.\n",
    "https://towardsdatascience.com/building-a-linear-regression-with-pyspark-and-mllib-d065c3ba246a"
   ]
  },
  {
   "cell_type": "code",
   "execution_count": 6,
   "metadata": {},
   "outputs": [
    {
     "name": "stdout",
     "output_type": "stream",
     "text": [
      "+--------------------+----+\n",
      "|            features| _c0|\n",
      "+--------------------+----+\n",
      "|[49.94357,73.0775...|2001|\n",
      "|[48.73215,70.3267...|2001|\n",
      "|[50.95714,55.8185...|2001|\n",
      "+--------------------+----+\n",
      "only showing top 3 rows\n",
      "\n"
     ]
    }
   ],
   "source": [
    "from pyspark.ml.feature import VectorAssembler\n",
    "vectorAssembler = VectorAssembler(inputCols = ['_c1','_c3','_c7','_c36','_c40','_c46','_c63','_c67'], outputCol = 'features')\n",
    "vhouse_df = vectorAssembler.transform(house_df)\n",
    "vhouse_df = vhouse_df.select(['features', '_c0'])\n",
    "vhouse_df.show(3)"
   ]
  },
  {
   "cell_type": "markdown",
   "metadata": {},
   "source": [
    "USE the first 463,715 examples as the training dataset and the last 51,630 examples as the test dataset."
   ]
  },
  {
   "cell_type": "code",
   "execution_count": 7,
   "metadata": {},
   "outputs": [],
   "source": [
    "#vhouse_df.count()\n",
    "splits = vhouse_df.randomSplit([0.9, 0.1])\n",
    "train_df = splits[0]\n",
    "test_df = splits[1]"
   ]
  },
  {
   "cell_type": "code",
   "execution_count": 9,
   "metadata": {},
   "outputs": [
    {
     "name": "stdout",
     "output_type": "stream",
     "text": [
      "Coefficients: [0.4077051634535665,-0.051387873629669706,0.019033399321225903,-0.0006451080501216022,-0.002849862895023887,0.0,0.0,-0.0020058913457660817]\n",
      "Intercept: 1981.320686947038\n"
     ]
    }
   ],
   "source": [
    "from pyspark.ml.regression import LinearRegression\n",
    "lr = LinearRegression(featuresCol = 'features', labelCol='_c0', maxIter=10, regParam=0.3, elasticNetParam=0.8)\n",
    "lr_model = lr.fit(train_df)\n",
    "print(\"Coefficients: \" + str(lr_model.coefficients))\n",
    "print(\"Intercept: \" + str(lr_model.intercept))"
   ]
  },
  {
   "cell_type": "code",
   "execution_count": 10,
   "metadata": {},
   "outputs": [
    {
     "name": "stdout",
     "output_type": "stream",
     "text": [
      "RMSE: 10.382032\n",
      "r2: 0.097244\n"
     ]
    }
   ],
   "source": [
    "trainingSummary = lr_model.summary\n",
    "print(\"RMSE: %f\" % trainingSummary.rootMeanSquaredError)\n",
    "print(\"r2: %f\" % trainingSummary.r2)"
   ]
  },
  {
   "cell_type": "code",
   "execution_count": 11,
   "metadata": {},
   "outputs": [
    {
     "name": "stdout",
     "output_type": "stream",
     "text": [
      "+------------------+----+--------------------+\n",
      "|        prediction| _c0|            features|\n",
      "+------------------+----+--------------------+\n",
      "| 1982.070576695173|2003|[7.52015,24.49667...|\n",
      "|1993.0002349104159|1996|[10.93386,-139.35...|\n",
      "|1988.1749345823484|1981|[13.89575,-9.1877...|\n",
      "|1982.6210833583946|2002|[14.26674,66.5688...|\n",
      "|1989.0740975226968|2005|[14.31269,-44.816...|\n",
      "+------------------+----+--------------------+\n",
      "only showing top 5 rows\n",
      "\n",
      "R Squared (R2) on test data = 0.102986\n"
     ]
    }
   ],
   "source": [
    "lr_predictions = lr_model.transform(test_df)\n",
    "lr_predictions.select(\"prediction\",\"_c0\",\"features\").show(5)\n",
    "from pyspark.ml.evaluation import RegressionEvaluator\n",
    "lr_evaluator = RegressionEvaluator(predictionCol=\"prediction\", \\\n",
    "                 labelCol=\"_c0\",metricName=\"r2\")\n",
    "print(\"R Squared (R2) on test data = %g\" % lr_evaluator.evaluate(lr_predictions))"
   ]
  },
  {
   "cell_type": "code",
   "execution_count": 12,
   "metadata": {},
   "outputs": [
    {
     "name": "stdout",
     "output_type": "stream",
     "text": [
      "Root Mean Squared Error (RMSE) on test data = 10.3884\n"
     ]
    }
   ],
   "source": [
    "test_result = lr_model.evaluate(test_df)\n",
    "print(\"Root Mean Squared Error (RMSE) on test data = %g\" % test_result.rootMeanSquaredError)"
   ]
  },
  {
   "cell_type": "code",
   "execution_count": 13,
   "metadata": {},
   "outputs": [
    {
     "name": "stdout",
     "output_type": "stream",
     "text": [
      "numIterations: 11\n",
      "objectiveHistory: [0.500000000003638, 0.48818196467213887, 0.4670785056942257, 0.4639465089954179, 0.46263879373138417, 0.4625173126366664, 0.4625042618445512, 0.462503415163701, 0.4625033868428803, 0.46250338327221496, 0.46250338276296493]\n",
      "+------------------+\n",
      "|         residuals|\n",
      "+------------------+\n",
      "|21.999109723026095|\n",
      "|12.685408781973365|\n",
      "|20.953710814658052|\n",
      "| 19.17757654100342|\n",
      "|11.211666007628537|\n",
      "|21.829530095515565|\n",
      "|26.026522196688802|\n",
      "|  4.24170515102378|\n",
      "|3.9865618295555123|\n",
      "|18.501324417992237|\n",
      "|1.9396985402386235|\n",
      "| 10.58982946590254|\n",
      "|23.112719858593664|\n",
      "| 20.09639042795834|\n",
      "| 6.072749976447085|\n",
      "|  20.2705404108342|\n",
      "| 17.04738195204891|\n",
      "|15.733245493580398|\n",
      "| 3.046615567197705|\n",
      "| 8.044601768599023|\n",
      "+------------------+\n",
      "only showing top 20 rows\n",
      "\n"
     ]
    }
   ],
   "source": [
    "print(\"numIterations: %d\" % trainingSummary.totalIterations)\n",
    "print(\"objectiveHistory: %s\" % str(trainingSummary.objectiveHistory))\n",
    "trainingSummary.residuals.show()"
   ]
  },
  {
   "cell_type": "code",
   "execution_count": 14,
   "metadata": {},
   "outputs": [
    {
     "name": "stdout",
     "output_type": "stream",
     "text": [
      "+------------------+----+--------------------+\n",
      "|        prediction| _c0|            features|\n",
      "+------------------+----+--------------------+\n",
      "| 1982.070576695173|2003|[7.52015,24.49667...|\n",
      "|1993.0002349104159|1996|[10.93386,-139.35...|\n",
      "|1988.1749345823484|1981|[13.89575,-9.1877...|\n",
      "|1982.6210833583946|2002|[14.26674,66.5688...|\n",
      "|1989.0740975226968|2005|[14.31269,-44.816...|\n",
      "|1991.4503704439514|2004|[14.43301,-32.922...|\n",
      "|1989.5814197659454|2000|[15.19295,-35.841...|\n",
      "|  1985.35752707804|2000|[16.61003,32.7588...|\n",
      "|1993.0759952549238|1994|[16.67855,-79.629...|\n",
      "|1994.5444392081677|2009|[16.77987,-143.71...|\n",
      "| 1987.261039615124|2005|[16.911,10.90929,...|\n",
      "|1985.6700808067997|2002|[17.14097,-42.829...|\n",
      "|1995.0779896509655|2003|[17.19291,-72.959...|\n",
      "| 1995.551051690657|2008|[17.566,-151.1249...|\n",
      "| 1971.265435581001|2002|[17.80924,250.687...|\n",
      "|1989.6740031268232|1996|[17.86658,-41.341...|\n",
      "|1988.2278443779112|2005|[17.96247,-35.737...|\n",
      "|1981.6877182321386|1991|[17.9813,92.08273...|\n",
      "|1996.9707622724875|2004|[18.1547,-157.407...|\n",
      "|1994.5055721148983|2004|[18.17058,-27.122...|\n",
      "+------------------+----+--------------------+\n",
      "only showing top 20 rows\n",
      "\n"
     ]
    }
   ],
   "source": [
    "predictions = lr_model.transform(test_df)\n",
    "predictions.select(\"prediction\",\"_c0\",\"features\").show()"
   ]
  },
  {
   "cell_type": "code",
   "execution_count": 15,
   "metadata": {},
   "outputs": [
    {
     "name": "stdout",
     "output_type": "stream",
     "text": [
      "+------------------+----+--------------------+\n",
      "|        prediction| _c0|            features|\n",
      "+------------------+----+--------------------+\n",
      "| 1982.070576695173|2003|[7.52015,24.49667...|\n",
      "|1993.0002349104159|1996|[10.93386,-139.35...|\n",
      "|1988.1749345823484|1981|[13.89575,-9.1877...|\n",
      "|1982.6210833583946|2002|[14.26674,66.5688...|\n",
      "|1989.0740975226968|2005|[14.31269,-44.816...|\n",
      "|1991.4503704439514|2004|[14.43301,-32.922...|\n",
      "|1989.5814197659454|2000|[15.19295,-35.841...|\n",
      "|  1985.35752707804|2000|[16.61003,32.7588...|\n",
      "|1993.0759952549238|1994|[16.67855,-79.629...|\n",
      "|1994.5444392081677|2009|[16.77987,-143.71...|\n",
      "| 1987.261039615124|2005|[16.911,10.90929,...|\n",
      "|1985.6700808067997|2002|[17.14097,-42.829...|\n",
      "|1995.0779896509655|2003|[17.19291,-72.959...|\n",
      "| 1995.551051690657|2008|[17.566,-151.1249...|\n",
      "| 1971.265435581001|2002|[17.80924,250.687...|\n",
      "|1989.6740031268232|1996|[17.86658,-41.341...|\n",
      "|1988.2278443779112|2005|[17.96247,-35.737...|\n",
      "|1981.6877182321386|1991|[17.9813,92.08273...|\n",
      "|1996.9707622724875|2004|[18.1547,-157.407...|\n",
      "|1994.5055721148983|2004|[18.17058,-27.122...|\n",
      "+------------------+----+--------------------+\n",
      "only showing top 20 rows\n",
      "\n"
     ]
    }
   ],
   "source": [
    "predictions = lr_model.transform(test_df)\n",
    "predictions.select(\"prediction\",\"_c0\",\"features\").show()"
   ]
  },
  {
   "cell_type": "markdown",
   "metadata": {},
   "source": [
    "DECISION TREE REGRESSOR"
   ]
  },
  {
   "cell_type": "code",
   "execution_count": 16,
   "metadata": {},
   "outputs": [
    {
     "name": "stdout",
     "output_type": "stream",
     "text": [
      "Root Mean Squared Error (RMSE) on test data = 10.1731\n"
     ]
    }
   ],
   "source": [
    "from pyspark.ml.regression import DecisionTreeRegressor\n",
    "dt = DecisionTreeRegressor(featuresCol ='features', labelCol = '_c0')\n",
    "dt_model = dt.fit(train_df)\n",
    "dt_predictions = dt_model.transform(test_df)\n",
    "dt_evaluator = RegressionEvaluator(\n",
    "    labelCol=\"_c0\", predictionCol=\"prediction\", metricName=\"rmse\")\n",
    "rmse = dt_evaluator.evaluate(dt_predictions)\n",
    "print(\"Root Mean Squared Error (RMSE) on test data = %g\" % rmse)"
   ]
  },
  {
   "cell_type": "code",
   "execution_count": 17,
   "metadata": {},
   "outputs": [
    {
     "data": {
      "text/plain": [
       "SparseVector(8, {0: 0.4905, 1: 0.3441, 2: 0.0114, 3: 0.0853, 4: 0.0374, 5: 0.0035, 6: 0.026, 7: 0.0017})"
      ]
     },
     "execution_count": 17,
     "metadata": {},
     "output_type": "execute_result"
    }
   ],
   "source": [
    "dt_model.featureImportances"
   ]
  },
  {
   "cell_type": "markdown",
   "metadata": {},
   "source": [
    "Gradient-boosted tree regression"
   ]
  },
  {
   "cell_type": "code",
   "execution_count": 19,
   "metadata": {},
   "outputs": [
    {
     "name": "stdout",
     "output_type": "stream",
     "text": [
      "+------------------+----+--------------------+\n",
      "|        prediction| _c0|            features|\n",
      "+------------------+----+--------------------+\n",
      "|1990.2933017856801|2003|[7.52015,24.49667...|\n",
      "|1996.6330638881939|1996|[10.93386,-139.35...|\n",
      "|1996.8264666500281|1981|[13.89575,-9.1877...|\n",
      "|1993.1170415043696|2002|[14.26674,66.5688...|\n",
      "|1995.8186633244256|2005|[14.31269,-44.816...|\n",
      "+------------------+----+--------------------+\n",
      "only showing top 5 rows\n",
      "\n"
     ]
    }
   ],
   "source": [
    "from pyspark.ml.regression import GBTRegressor\n",
    "gbt = GBTRegressor(featuresCol = 'features', labelCol = '_c0', maxIter=10)\n",
    "gbt_model = gbt.fit(train_df)\n",
    "gbt_predictions = gbt_model.transform(test_df)\n",
    "gbt_predictions.select('prediction', '_c0', 'features').show(5)"
   ]
  },
  {
   "cell_type": "code",
   "execution_count": 20,
   "metadata": {},
   "outputs": [
    {
     "name": "stdout",
     "output_type": "stream",
     "text": [
      "Root Mean Squared Error (RMSE) on test data = 10.0314\n"
     ]
    }
   ],
   "source": [
    "gbt_evaluator = RegressionEvaluator(\n",
    "    labelCol=\"_c0\", predictionCol=\"prediction\", metricName=\"rmse\")\n",
    "rmse = gbt_evaluator.evaluate(gbt_predictions)\n",
    "print(\"Root Mean Squared Error (RMSE) on test data = %g\" % rmse)"
   ]
  },
  {
   "cell_type": "code",
   "execution_count": null,
   "metadata": {},
   "outputs": [],
   "source": []
  },
  {
   "cell_type": "code",
   "execution_count": null,
   "metadata": {},
   "outputs": [],
   "source": [
    "#credits: https://towardsdatascience.com/building-a-linear-regression-with-pyspark-and-mllib-d065c3ba246a"
   ]
  },
  {
   "cell_type": "code",
   "execution_count": null,
   "metadata": {},
   "outputs": [],
   "source": []
  },
  {
   "cell_type": "code",
   "execution_count": null,
   "metadata": {},
   "outputs": [],
   "source": []
  }
 ],
 "metadata": {
  "kernelspec": {
   "display_name": "Python 3",
   "language": "python",
   "name": "python3"
  },
  "language_info": {
   "codemirror_mode": {
    "name": "ipython",
    "version": 3
   },
   "file_extension": ".py",
   "mimetype": "text/x-python",
   "name": "python",
   "nbconvert_exporter": "python",
   "pygments_lexer": "ipython3",
   "version": "3.7.4"
  }
 },
 "nbformat": 4,
 "nbformat_minor": 4
}
