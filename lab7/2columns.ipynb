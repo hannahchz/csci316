{
 "cells": [
  {
   "cell_type": "code",
   "execution_count": 1,
   "metadata": {},
   "outputs": [
    {
     "name": "stdout",
     "output_type": "stream",
     "text": [
      "WARNING:tensorflow:From /opt/anaconda3/envs/py27/lib/python2.7/site-packages/tensorflow_core/python/compat/v2_compat.py:68: disable_resource_variables (from tensorflow.python.ops.variable_scope) is deprecated and will be removed in a future version.\n",
      "Instructions for updating:\n",
      "non-resource variables are not supported in the long term\n"
     ]
    }
   ],
   "source": [
    "import numpy as np \n",
    "import pandas as pd\n",
    "import matplotlib.pyplot as plt\n",
    "from sklearn import metrics\n",
    "import tensorflow.compat.v1 as tf\n",
    "tf.disable_v2_behavior()"
   ]
  },
  {
   "cell_type": "code",
   "execution_count": 2,
   "metadata": {},
   "outputs": [
    {
     "data": {
      "text/html": [
       "<div>\n",
       "<style scoped>\n",
       "    .dataframe tbody tr th:only-of-type {\n",
       "        vertical-align: middle;\n",
       "    }\n",
       "\n",
       "    .dataframe tbody tr th {\n",
       "        vertical-align: top;\n",
       "    }\n",
       "\n",
       "    .dataframe thead th {\n",
       "        text-align: right;\n",
       "    }\n",
       "</style>\n",
       "<table border=\"1\" class=\"dataframe\">\n",
       "  <thead>\n",
       "    <tr style=\"text-align: right;\">\n",
       "      <th></th>\n",
       "      <th>Sex</th>\n",
       "      <th>Length</th>\n",
       "      <th>Diameter</th>\n",
       "      <th>Height</th>\n",
       "      <th>Whole weight</th>\n",
       "      <th>Shucked weight</th>\n",
       "      <th>Viscera weight</th>\n",
       "      <th>Shell weight</th>\n",
       "      <th>Rings</th>\n",
       "    </tr>\n",
       "  </thead>\n",
       "  <tbody>\n",
       "    <tr>\n",
       "      <th>0</th>\n",
       "      <td>M</td>\n",
       "      <td>0.455</td>\n",
       "      <td>0.365</td>\n",
       "      <td>0.095</td>\n",
       "      <td>0.5140</td>\n",
       "      <td>0.2245</td>\n",
       "      <td>0.1010</td>\n",
       "      <td>0.150</td>\n",
       "      <td>15</td>\n",
       "    </tr>\n",
       "    <tr>\n",
       "      <th>1</th>\n",
       "      <td>M</td>\n",
       "      <td>0.350</td>\n",
       "      <td>0.265</td>\n",
       "      <td>0.090</td>\n",
       "      <td>0.2255</td>\n",
       "      <td>0.0995</td>\n",
       "      <td>0.0485</td>\n",
       "      <td>0.070</td>\n",
       "      <td>7</td>\n",
       "    </tr>\n",
       "    <tr>\n",
       "      <th>2</th>\n",
       "      <td>F</td>\n",
       "      <td>0.530</td>\n",
       "      <td>0.420</td>\n",
       "      <td>0.135</td>\n",
       "      <td>0.6770</td>\n",
       "      <td>0.2565</td>\n",
       "      <td>0.1415</td>\n",
       "      <td>0.210</td>\n",
       "      <td>9</td>\n",
       "    </tr>\n",
       "    <tr>\n",
       "      <th>3</th>\n",
       "      <td>M</td>\n",
       "      <td>0.440</td>\n",
       "      <td>0.365</td>\n",
       "      <td>0.125</td>\n",
       "      <td>0.5160</td>\n",
       "      <td>0.2155</td>\n",
       "      <td>0.1140</td>\n",
       "      <td>0.155</td>\n",
       "      <td>10</td>\n",
       "    </tr>\n",
       "    <tr>\n",
       "      <th>4</th>\n",
       "      <td>I</td>\n",
       "      <td>0.330</td>\n",
       "      <td>0.255</td>\n",
       "      <td>0.080</td>\n",
       "      <td>0.2050</td>\n",
       "      <td>0.0895</td>\n",
       "      <td>0.0395</td>\n",
       "      <td>0.055</td>\n",
       "      <td>7</td>\n",
       "    </tr>\n",
       "  </tbody>\n",
       "</table>\n",
       "</div>"
      ],
      "text/plain": [
       "  Sex  Length  Diameter  Height  Whole weight  Shucked weight  Viscera weight  \\\n",
       "0   M   0.455     0.365   0.095        0.5140          0.2245          0.1010   \n",
       "1   M   0.350     0.265   0.090        0.2255          0.0995          0.0485   \n",
       "2   F   0.530     0.420   0.135        0.6770          0.2565          0.1415   \n",
       "3   M   0.440     0.365   0.125        0.5160          0.2155          0.1140   \n",
       "4   I   0.330     0.255   0.080        0.2050          0.0895          0.0395   \n",
       "\n",
       "   Shell weight  Rings  \n",
       "0         0.150     15  \n",
       "1         0.070      7  \n",
       "2         0.210      9  \n",
       "3         0.155     10  \n",
       "4         0.055      7  "
      ]
     },
     "execution_count": 2,
     "metadata": {},
     "output_type": "execute_result"
    }
   ],
   "source": [
    "dataframe = pd.read_csv(\"abalone.csv\", sep=\",\")\n",
    "dataframe.head()"
   ]
  },
  {
   "cell_type": "code",
   "execution_count": 3,
   "metadata": {},
   "outputs": [],
   "source": [
    "def generate_dataset():\n",
    "    x_batch=dataframe[\"Shell weight\"]\n",
    "    y_batch=dataframe[\"Rings\"]\n",
    "    return x_batch, y_batch"
   ]
  },
  {
   "cell_type": "code",
   "execution_count": 4,
   "metadata": {},
   "outputs": [],
   "source": [
    "def linear_regression():\n",
    "    x = tf.placeholder(tf.float32, shape=(None, ), name='x')\n",
    "    y = tf.placeholder(tf.float32, shape=(None, ), name='y')\n",
    "\n",
    "    with tf.variable_scope('lreg') as scope:\n",
    "        w = tf.Variable(np.random.normal(), name='W')\n",
    "        b = tf.Variable(np.random.normal(), name='b')\n",
    "        y_pred = tf.add(tf.multiply(w, x), b)\n",
    "\n",
    "        loss = tf.reduce_mean(tf.square(y_pred - y))\n",
    "\n",
    "        return x, y, y_pred, loss"
   ]
  },
  {
   "cell_type": "code",
   "execution_count": 5,
   "metadata": {},
   "outputs": [],
   "source": [
    "def run():\n",
    "\n",
    "    x_batch, y_batch = generate_dataset()\n",
    "\n",
    "    x, y, y_pred, loss = linear_regression()\n",
    "\n",
    "    optimizer = tf.train.GradientDescentOptimizer(0.1)\n",
    "\n",
    "    train_op = optimizer.minimize(loss)\n",
    "\n",
    "\n",
    "    with tf.Session() as session:\n",
    "        session.run(tf.global_variables_initializer())\n",
    "\n",
    "\n",
    "        feed_dict = {x: x_batch, y: y_batch}\n",
    "\n",
    "\n",
    "        for i in range(30):\n",
    "\n",
    "            _ = session.run(train_op, feed_dict)\n",
    "            print(i, \"loss:\", loss.eval(feed_dict))\n",
    "\n",
    "        print('Predicting')\n",
    "\n",
    "        y_pred_batch = session.run(y_pred, {x : x_batch})\n",
    "\n",
    "\n",
    "\n",
    "    plt.scatter(x_batch, y_batch)\n",
    "    plt.plot(x_batch, y_pred_batch, color='red')\n",
    "\n",
    "    plt.xlim(0, 1)\n",
    "    plt.ylim(0, 30)\n",
    "\n",
    "    plt.savefig('plot.png')\n",
    "\n",
    "\n",
    "\n"
   ]
  },
  {
   "cell_type": "code",
   "execution_count": 6,
   "metadata": {},
   "outputs": [
    {
     "name": "stdout",
     "output_type": "stream",
     "text": [
      "(0, 'loss:', 97.738)\n",
      "(1, 'loss:', 64.60014)\n",
      "(2, 'loss:', 43.9929)\n",
      "(3, 'loss:', 31.17397)\n",
      "(4, 'loss:', 23.195889)\n",
      "(5, 'loss:', 18.226696)\n",
      "(6, 'loss:', 15.127703)\n",
      "(7, 'loss:', 13.191213)\n",
      "(8, 'loss:', 11.977337)\n",
      "(9, 'loss:', 11.212666)\n",
      "(10, 'loss:', 10.72727)\n",
      "(11, 'loss:', 10.415539)\n",
      "(12, 'loss:', 10.211809)\n",
      "(13, 'loss:', 10.075289)\n",
      "(14, 'loss:', 9.980612)\n",
      "(15, 'loss:', 9.912009)\n",
      "(16, 'loss:', 9.859686)\n",
      "(17, 'loss:', 9.817553)\n",
      "(18, 'loss:', 9.781825)\n",
      "(19, 'loss:', 9.750151)\n",
      "(20, 'loss:', 9.721057)\n",
      "(21, 'loss:', 9.693643)\n",
      "(22, 'loss:', 9.6673355)\n",
      "(23, 'loss:', 9.64179)\n",
      "(24, 'loss:', 9.616777)\n",
      "(25, 'loss:', 9.592174)\n",
      "(26, 'loss:', 9.567879)\n",
      "(27, 'loss:', 9.543851)\n",
      "(28, 'loss:', 9.520046)\n",
      "(29, 'loss:', 9.496453)\n",
      "Predicting\n"
     ]
    },
    {
     "data": {
      "image/png": "[encoded data removed]",
      "text/plain": [
       "<Figure size 432x288 with 1 Axes>"
      ]
     },
     "metadata": {
      "needs_background": "light"
     },
     "output_type": "display_data"
    }
   ],
   "source": [
    "if __name__ == \"__main__\":\n",
    "\n",
    "    run()"
   ]
  },
  {
   "cell_type": "code",
   "execution_count": null,
   "metadata": {},
   "outputs": [],
   "source": []
  }
 ],
 "metadata": {
  "kernelspec": {
   "display_name": "Python 2",
   "language": "python",
   "name": "python2"
  },
  "language_info": {
   "codemirror_mode": {
    "name": "ipython",
    "version": 2
   },
   "file_extension": ".py",
   "mimetype": "text/x-python",
   "name": "python",
   "nbconvert_exporter": "python",
   "pygments_lexer": "ipython2",
   "version": "2.7.17"
  }
 },
 "nbformat": 4,
 "nbformat_minor": 4
}
