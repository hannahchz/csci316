{
 "cells": [
  {
   "cell_type": "code",
   "execution_count": 9,
   "metadata": {},
   "outputs": [],
   "source": [
    "import tensorflow as tf\n",
    "(x_train, y_train), (x_test, y_test) = tf.keras.datasets.mnist.load_data()"
   ]
  },
  {
   "cell_type": "code",
   "execution_count": 10,
   "metadata": {},
   "outputs": [
    {
     "name": "stdout",
     "output_type": "stream",
     "text": [
      "8\n"
     ]
    },
    {
     "data": {
      "text/plain": [
       "<matplotlib.image.AxesImage at 0x143126350>"
      ]
     },
     "execution_count": 10,
     "metadata": {},
     "output_type": "execute_result"
    },
    {
     "data": {
      "image/png": "[encoded data removed]",
      "text/plain": [
       "<Figure size 432x288 with 1 Axes>"
      ]
     },
     "metadata": {
      "needs_background": "light"
     },
     "output_type": "display_data"
    }
   ],
   "source": [
    "%matplotlib inline\n",
    "import matplotlib.pyplot as plt\n",
    "image_index = 7777 # You may select anything up to 60,000\n",
    "print(y_train[image_index]) # The label is 8\n",
    "plt.imshow(x_train[image_index], cmap='Greys')"
   ]
  },
  {
   "cell_type": "code",
   "execution_count": 11,
   "metadata": {},
   "outputs": [
    {
     "data": {
      "text/plain": [
       "(60000, 28, 28)"
      ]
     },
     "execution_count": 11,
     "metadata": {},
     "output_type": "execute_result"
    }
   ],
   "source": [
    "x_train.shape"
   ]
  },
  {
   "cell_type": "code",
   "execution_count": 12,
   "metadata": {},
   "outputs": [
    {
     "name": "stdout",
     "output_type": "stream",
     "text": [
      "x_train shape: (60000, 28, 28, 1)\n",
      "Number of images in x_train 60000\n",
      "Number of images in x_test 10000\n"
     ]
    }
   ],
   "source": [
    "# Reshaping the array to 4-dims so that it can work with the Keras API\n",
    "x_train = x_train.reshape(x_train.shape[0], 28, 28, 1)\n",
    "x_test = x_test.reshape(x_test.shape[0], 28, 28, 1)\n",
    "input_shape = (28, 28, 1)\n",
    "# Making sure that the values are float so that we can get decimal points after division\n",
    "x_train = x_train.astype('float32')\n",
    "x_test = x_test.astype('float32')\n",
    "# Normalizing the RGB codes by dividing it to the max RGB value.\n",
    "x_train /= 255\n",
    "x_test /= 255\n",
    "print('x_train shape:', x_train.shape)\n",
    "print('Number of images in x_train', x_train.shape[0])\n",
    "print('Number of images in x_test', x_test.shape[0])"
   ]
  },
  {
   "cell_type": "code",
   "execution_count": 13,
   "metadata": {},
   "outputs": [],
   "source": [
    "# Importing the required Keras modules containing model and layers\n",
    "from keras.models import Sequential\n",
    "from keras.layers import Dense, Conv2D, Dropout, Flatten, MaxPooling2D\n",
    "# Creating a Sequential Model and adding the layers\n",
    "model = Sequential()\n",
    "model.add(Conv2D(28, kernel_size=(3,3), input_shape=input_shape))\n",
    "model.add(MaxPooling2D(pool_size=(2, 2)))\n",
    "model.add(Flatten()) # Flattening the 2D arrays for fully connected layers\n",
    "model.add(Dense(128, activation=tf.nn.relu))\n",
    "model.add(Dropout(0.2))\n",
    "model.add(Dense(10,activation=tf.nn.softmax))\n",
    "\n",
    "#the final Dense layer must have 10 neurons since \n",
    "#we have 10 number classes (0, 1, 2, …, 9)"
   ]
  },
  {
   "cell_type": "code",
   "execution_count": 27,
   "metadata": {},
   "outputs": [
    {
     "name": "stdout",
     "output_type": "stream",
     "text": [
      "Epoch 1/100\n",
      "60000/60000 [==============================] - 28s 469us/step - loss: 0.2045 - accuracy: 0.9398\n",
      "Epoch 2/100\n",
      "60000/60000 [==============================] - 27s 457us/step - loss: 0.0837 - accuracy: 0.9743\n",
      "Epoch 3/100\n",
      "60000/60000 [==============================] - 28s 459us/step - loss: 0.0565 - accuracy: 0.9825\n",
      "Epoch 4/100\n",
      "60000/60000 [==============================] - 28s 466us/step - loss: 0.0443 - accuracy: 0.9861\n",
      "Epoch 5/100\n",
      "60000/60000 [==============================] - 28s 467us/step - loss: 0.0351 - accuracy: 0.9888\n",
      "Epoch 6/100\n",
      "60000/60000 [==============================] - 28s 473us/step - loss: 0.0300 - accuracy: 0.9899\n",
      "Epoch 7/100\n",
      "60000/60000 [==============================] - 28s 461us/step - loss: 0.0261 - accuracy: 0.9911\n",
      "Epoch 8/100\n",
      "60000/60000 [==============================] - 29s 481us/step - loss: 0.0225 - accuracy: 0.9924\n",
      "Epoch 9/100\n",
      "60000/60000 [==============================] - 30s 495us/step - loss: 0.0202 - accuracy: 0.9929\n",
      "Epoch 10/100\n",
      "60000/60000 [==============================] - 28s 465us/step - loss: 0.0177 - accuracy: 0.9942\n",
      "Epoch 11/100\n",
      "60000/60000 [==============================] - 28s 472us/step - loss: 0.0163 - accuracy: 0.9942\n",
      "Epoch 12/100\n",
      "60000/60000 [==============================] - 30s 492us/step - loss: 0.0159 - accuracy: 0.9947\n",
      "Epoch 13/100\n",
      "60000/60000 [==============================] - 27s 444us/step - loss: 0.0135 - accuracy: 0.9954\n",
      "Epoch 14/100\n",
      "60000/60000 [==============================] - 28s 466us/step - loss: 0.0132 - accuracy: 0.9954\n",
      "Epoch 15/100\n",
      "60000/60000 [==============================] - 28s 463us/step - loss: 0.0116 - accuracy: 0.9958\n",
      "Epoch 16/100\n",
      "60000/60000 [==============================] - 27s 456us/step - loss: 0.0103 - accuracy: 0.9965\n",
      "Epoch 17/100\n",
      "60000/60000 [==============================] - 27s 457us/step - loss: 0.0130 - accuracy: 0.9957\n",
      "Epoch 18/100\n",
      "60000/60000 [==============================] - 31s 516us/step - loss: 0.0106 - accuracy: 0.9966\n",
      "Epoch 19/100\n",
      "60000/60000 [==============================] - 30s 498us/step - loss: 0.0120 - accuracy: 0.9961\n",
      "Epoch 20/100\n",
      "60000/60000 [==============================] - 30s 497us/step - loss: 0.0124 - accuracy: 0.9962\n",
      "Epoch 21/100\n",
      "60000/60000 [==============================] - 31s 514us/step - loss: 0.0103 - accuracy: 0.9964\n",
      "Epoch 22/100\n",
      "60000/60000 [==============================] - 31s 516us/step - loss: 0.0091 - accuracy: 0.9970\n",
      "Epoch 23/100\n",
      "60000/60000 [==============================] - 29s 485us/step - loss: 0.0108 - accuracy: 0.9968\n",
      "Epoch 24/100\n",
      "60000/60000 [==============================] - 31s 510us/step - loss: 0.0103 - accuracy: 0.9966\n",
      "Epoch 25/100\n",
      "60000/60000 [==============================] - 32s 525us/step - loss: 0.0102 - accuracy: 0.9966\n",
      "Epoch 26/100\n",
      "60000/60000 [==============================] - 29s 489us/step - loss: 0.0093 - accuracy: 0.9971\n",
      "Epoch 27/100\n",
      "60000/60000 [==============================] - 31s 510us/step - loss: 0.0094 - accuracy: 0.9973\n",
      "Epoch 28/100\n",
      "60000/60000 [==============================] - 30s 506us/step - loss: 0.0085 - accuracy: 0.9971\n",
      "Epoch 29/100\n",
      "60000/60000 [==============================] - 32s 525us/step - loss: 0.0089 - accuracy: 0.9971\n",
      "Epoch 30/100\n",
      "60000/60000 [==============================] - 31s 515us/step - loss: 0.0096 - accuracy: 0.9969\n",
      "Epoch 31/100\n",
      "60000/60000 [==============================] - 33s 547us/step - loss: 0.0083 - accuracy: 0.9974\n",
      "Epoch 32/100\n",
      "60000/60000 [==============================] - 31s 512us/step - loss: 0.0086 - accuracy: 0.9973\n",
      "Epoch 33/100\n",
      "60000/60000 [==============================] - 29s 490us/step - loss: 0.0080 - accuracy: 0.9972\n",
      "Epoch 34/100\n",
      "60000/60000 [==============================] - 31s 525us/step - loss: 0.0095 - accuracy: 0.9969\n",
      "Epoch 35/100\n",
      "60000/60000 [==============================] - 32s 538us/step - loss: 0.0081 - accuracy: 0.9976\n",
      "Epoch 36/100\n",
      "60000/60000 [==============================] - 30s 500us/step - loss: 0.0068 - accuracy: 0.9977\n",
      "Epoch 37/100\n",
      "60000/60000 [==============================] - 32s 530us/step - loss: 0.0073 - accuracy: 0.9977\n",
      "Epoch 38/100\n",
      "60000/60000 [==============================] - 32s 539us/step - loss: 0.0090 - accuracy: 0.9972\n",
      "Epoch 39/100\n",
      "60000/60000 [==============================] - 30s 504us/step - loss: 0.0077 - accuracy: 0.9978\n",
      "Epoch 40/100\n",
      "60000/60000 [==============================] - 29s 478us/step - loss: 0.0101 - accuracy: 0.9972\n",
      "Epoch 41/100\n",
      "60000/60000 [==============================] - 28s 474us/step - loss: 0.0085 - accuracy: 0.9976\n",
      "Epoch 42/100\n",
      "60000/60000 [==============================] - 28s 472us/step - loss: 0.0081 - accuracy: 0.9977\n",
      "Epoch 43/100\n",
      "60000/60000 [==============================] - 32s 535us/step - loss: 0.0087 - accuracy: 0.9976\n",
      "Epoch 44/100\n",
      "60000/60000 [==============================] - 32s 531us/step - loss: 0.0076 - accuracy: 0.9977\n",
      "Epoch 45/100\n",
      "60000/60000 [==============================] - 31s 523us/step - loss: 0.0084 - accuracy: 0.9976\n",
      "Epoch 46/100\n",
      "60000/60000 [==============================] - 29s 490us/step - loss: 0.0085 - accuracy: 0.9976\n",
      "Epoch 47/100\n",
      "60000/60000 [==============================] - 28s 463us/step - loss: 0.0081 - accuracy: 0.9976\n",
      "Epoch 48/100\n",
      "60000/60000 [==============================] - 28s 459us/step - loss: 0.0073 - accuracy: 0.9978\n",
      "Epoch 49/100\n",
      "60000/60000 [==============================] - 27s 456us/step - loss: 0.0072 - accuracy: 0.9979\n",
      "Epoch 50/100\n",
      "60000/60000 [==============================] - 28s 472us/step - loss: 0.0095 - accuracy: 0.9974\n",
      "Epoch 51/100\n",
      "60000/60000 [==============================] - 29s 489us/step - loss: 0.0075 - accuracy: 0.9977\n",
      "Epoch 52/100\n",
      "60000/60000 [==============================] - 29s 489us/step - loss: 0.0063 - accuracy: 0.9982\n",
      "Epoch 53/100\n",
      "60000/60000 [==============================] - 29s 489us/step - loss: 0.0096 - accuracy: 0.9974\n",
      "Epoch 54/100\n",
      "60000/60000 [==============================] - 30s 506us/step - loss: 0.0078 - accuracy: 0.9978\n",
      "Epoch 55/100\n",
      "60000/60000 [==============================] - 28s 459us/step - loss: 0.0087 - accuracy: 0.9976\n",
      "Epoch 56/100\n",
      "60000/60000 [==============================] - 27s 447us/step - loss: 0.0064 - accuracy: 0.9983\n",
      "Epoch 57/100\n",
      "60000/60000 [==============================] - 30s 502us/step - loss: 0.0077 - accuracy: 0.9977\n",
      "Epoch 58/100\n",
      "60000/60000 [==============================] - 31s 515us/step - loss: 0.0071 - accuracy: 0.9980\n",
      "Epoch 59/100\n",
      "60000/60000 [==============================] - 32s 532us/step - loss: 0.0065 - accuracy: 0.9980\n",
      "Epoch 60/100\n",
      "60000/60000 [==============================] - 30s 508us/step - loss: 0.0076 - accuracy: 0.9980\n",
      "Epoch 61/100\n",
      "60000/60000 [==============================] - 30s 504us/step - loss: 0.0085 - accuracy: 0.9977\n",
      "Epoch 62/100\n",
      "60000/60000 [==============================] - 29s 491us/step - loss: 0.0061 - accuracy: 0.9981\n",
      "Epoch 63/100\n",
      "60000/60000 [==============================] - 33s 542us/step - loss: 0.0073 - accuracy: 0.9982\n",
      "Epoch 64/100\n",
      "60000/60000 [==============================] - 27s 453us/step - loss: 0.0082 - accuracy: 0.9979\n",
      "Epoch 65/100\n",
      "60000/60000 [==============================] - 27s 453us/step - loss: 0.0078 - accuracy: 0.9981\n",
      "Epoch 66/100\n",
      "60000/60000 [==============================] - 29s 484us/step - loss: 0.0085 - accuracy: 0.9979\n",
      "Epoch 67/100\n",
      "60000/60000 [==============================] - 27s 451us/step - loss: 0.0070 - accuracy: 0.9982\n",
      "Epoch 68/100\n",
      "60000/60000 [==============================] - 29s 477us/step - loss: 0.0090 - accuracy: 0.9981\n",
      "Epoch 69/100\n",
      "60000/60000 [==============================] - 36s 608us/step - loss: 0.0064 - accuracy: 0.9981\n",
      "Epoch 70/100\n",
      "60000/60000 [==============================] - 30s 500us/step - loss: 0.0085 - accuracy: 0.9980\n",
      "Epoch 71/100\n",
      "60000/60000 [==============================] - 30s 496us/step - loss: 0.0077 - accuracy: 0.9981\n",
      "Epoch 72/100\n",
      "60000/60000 [==============================] - 28s 463us/step - loss: 0.0072 - accuracy: 0.9982\n",
      "Epoch 73/100\n",
      "60000/60000 [==============================] - 28s 460us/step - loss: 0.0071 - accuracy: 0.9984\n",
      "Epoch 74/100\n",
      "60000/60000 [==============================] - 28s 468us/step - loss: 0.0053 - accuracy: 0.9985\n",
      "Epoch 75/100\n",
      "60000/60000 [==============================] - 28s 461us/step - loss: 0.0082 - accuracy: 0.9979\n",
      "Epoch 76/100\n",
      "60000/60000 [==============================] - 25s 421us/step - loss: 0.0086 - accuracy: 0.9981\n",
      "Epoch 77/100\n",
      "60000/60000 [==============================] - 25s 422us/step - loss: 0.0054 - accuracy: 0.9984\n",
      "Epoch 78/100\n",
      "60000/60000 [==============================] - 26s 427us/step - loss: 0.0092 - accuracy: 0.9981\n",
      "Epoch 79/100\n",
      "60000/60000 [==============================] - 25s 423us/step - loss: 0.0073 - accuracy: 0.9982\n",
      "Epoch 80/100\n",
      "60000/60000 [==============================] - 26s 440us/step - loss: 0.0085 - accuracy: 0.9980\n",
      "Epoch 81/100\n",
      "60000/60000 [==============================] - 25s 413us/step - loss: 0.0060 - accuracy: 0.9984\n",
      "Epoch 82/100\n",
      "60000/60000 [==============================] - 118s 2ms/step - loss: 0.0062 - accuracy: 0.9986\n",
      "Epoch 83/100\n",
      "60000/60000 [==============================] - 27s 444us/step - loss: 0.0063 - accuracy: 0.9984\n",
      "Epoch 84/100\n",
      "60000/60000 [==============================] - 26s 438us/step - loss: 0.0067 - accuracy: 0.9983\n",
      "Epoch 85/100\n",
      "60000/60000 [==============================] - 25s 423us/step - loss: 0.0053 - accuracy: 0.9985\n",
      "Epoch 86/100\n",
      "60000/60000 [==============================] - 25s 417us/step - loss: 0.0073 - accuracy: 0.9983\n",
      "Epoch 87/100\n",
      "60000/60000 [==============================] - 25s 415us/step - loss: 0.0068 - accuracy: 0.9983\n",
      "Epoch 88/100\n",
      "60000/60000 [==============================] - 25s 413us/step - loss: 0.0075 - accuracy: 0.9982\n",
      "Epoch 89/100\n",
      "60000/60000 [==============================] - 25s 420us/step - loss: 0.0098 - accuracy: 0.9981\n",
      "Epoch 90/100\n",
      "60000/60000 [==============================] - 26s 437us/step - loss: 0.0063 - accuracy: 0.9985\n",
      "Epoch 91/100\n",
      "60000/60000 [==============================] - 228s 4ms/step - loss: 0.0065 - accuracy: 0.9985\n",
      "Epoch 92/100\n",
      "60000/60000 [==============================] - 32s 530us/step - loss: 0.0068 - accuracy: 0.9983\n",
      "Epoch 93/100\n",
      "60000/60000 [==============================] - 27s 448us/step - loss: 0.0056 - accuracy: 0.9988\n",
      "Epoch 94/100\n",
      "60000/60000 [==============================] - 26s 437us/step - loss: 0.0097 - accuracy: 0.9980\n",
      "Epoch 95/100\n",
      "60000/60000 [==============================] - 26s 436us/step - loss: 0.0071 - accuracy: 0.9982\n",
      "Epoch 96/100\n",
      "60000/60000 [==============================] - 26s 434us/step - loss: 0.0083 - accuracy: 0.9983\n",
      "Epoch 97/100\n",
      "60000/60000 [==============================] - 26s 431us/step - loss: 0.0074 - accuracy: 0.9983\n",
      "Epoch 98/100\n",
      "60000/60000 [==============================] - 83s 1ms/step - loss: 0.0057 - accuracy: 0.9986\n",
      "Epoch 99/100\n",
      "60000/60000 [==============================] - 29s 490us/step - loss: 0.0088 - accuracy: 0.9982\n",
      "Epoch 100/100\n",
      "60000/60000 [==============================] - 26s 432us/step - loss: 0.0061 - accuracy: 0.9985\n"
     ]
    },
    {
     "data": {
      "text/plain": [
       "<keras.callbacks.callbacks.History at 0x140df2a10>"
      ]
     },
     "execution_count": 27,
     "metadata": {},
     "output_type": "execute_result"
    }
   ],
   "source": [
    "model.compile(optimizer='adam', \n",
    "              loss='sparse_categorical_crossentropy', \n",
    "              metrics=['accuracy'])\n",
    "model.fit(x=x_train,y=y_train, epochs=100)"
   ]
  },
  {
   "cell_type": "code",
   "execution_count": 30,
   "metadata": {},
   "outputs": [
    {
     "name": "stdout",
     "output_type": "stream",
     "text": [
      "10000/10000 [==============================] - 1s 100us/step\n"
     ]
    },
    {
     "data": {
      "text/plain": [
       "[0.16098229786291993, 0.9865999817848206]"
      ]
     },
     "execution_count": 30,
     "metadata": {},
     "output_type": "execute_result"
    }
   ],
   "source": [
    "model.evaluate(x_test, y_test)"
   ]
  },
  {
   "cell_type": "code",
   "execution_count": 35,
   "metadata": {},
   "outputs": [
    {
     "name": "stdout",
     "output_type": "stream",
     "text": [
      "8\n"
     ]
    },
    {
     "data": {
      "image/png": "[encoded data removed]",
      "text/plain": [
       "<Figure size 432x288 with 1 Axes>"
      ]
     },
     "metadata": {
      "needs_background": "light"
     },
     "output_type": "display_data"
    }
   ],
   "source": [
    "image_index = 5680\n",
    "plt.imshow(x_test[image_index].reshape(28, 28),cmap='Greys')\n",
    "pred = model.predict(x_test[image_index].reshape(1, 28, 28, 1))#img_rows, img_cols, 1))\n",
    "print(pred.argmax())"
   ]
  },
  {
   "cell_type": "code",
   "execution_count": 33,
   "metadata": {},
   "outputs": [
    {
     "name": "stdout",
     "output_type": "stream",
     "text": [
      "9866 out of 10000\n"
     ]
    }
   ],
   "source": [
    "count=0\n",
    "for d in range(len(x_test)):\n",
    "    pred = model.predict(x_test[d].reshape(1, 28, 28, 1))#img_rows, img_cols, 1))\n",
    "    if pred.argmax() == y_test[d]:\n",
    "        count+=1\n",
    "print(count, \"out of\", len(x_test))"
   ]
  },
  {
   "cell_type": "code",
   "execution_count": null,
   "metadata": {},
   "outputs": [],
   "source": []
  }
 ],
 "metadata": {
  "kernelspec": {
   "display_name": "Python 3",
   "language": "python",
   "name": "python3"
  },
  "language_info": {
   "codemirror_mode": {
    "name": "ipython",
    "version": 3
   },
   "file_extension": ".py",
   "mimetype": "text/x-python",
   "name": "python",
   "nbconvert_exporter": "python",
   "pygments_lexer": "ipython3",
   "version": "3.7.4"
  }
 },
 "nbformat": 4,
 "nbformat_minor": 2
}
