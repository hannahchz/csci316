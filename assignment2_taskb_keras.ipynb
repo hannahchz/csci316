{
 "cells": [
  {
   "cell_type": "code",
   "execution_count": 1,
   "metadata": {},
   "outputs": [],
   "source": [
    "import cgitb, cgi\n",
    "cgitb.enable()"
   ]
  },
  {
   "cell_type": "code",
   "execution_count": 2,
   "metadata": {},
   "outputs": [
    {
     "name": "stdout",
     "output_type": "stream",
     "text": [
      "Content-Type: text/html\n",
      "\n",
      "\n",
      "<HTML>\n",
      "<HEAD>\n",
      "<TITLE> None </TITLE>\n",
      "</HEAD>\n",
      "<BODY bgcolor=\"cornsilk\">\n",
      "<script src=\"https://cdn.rawgit.com/google/code-prettify/master/loader/run_prettify.js?autoload=true&amp;skin=sunburst&amp;lang=python\" defer=\"defer\"></script>\n",
      "<P>\n",
      "<PRE class=\"prettyprint\">\n",
      "Connection from IP_NUM: None not found or not a regular file: permission denied\n",
      "\n",
      "</PRE>\n",
      "</BODY>\n",
      "\n",
      "</HTML>\n"
     ]
    }
   ],
   "source": [
    "import kerutils\n"
   ]
  },
  {
   "cell_type": "code",
   "execution_count": 3,
   "metadata": {},
   "outputs": [
    {
     "name": "stderr",
     "output_type": "stream",
     "text": [
      "Using TensorFlow backend.\n"
     ]
    }
   ],
   "source": [
    "#PYTHON 2.7 ENVIRONMENT\n",
    "#https://stackoverflow.com/questions/30492623/using-both-python-2-x-and-python-3-x-in-ipython-notebook\n",
    "#https://samyzaf.com/ML/song_year/song_year.html\n",
    "#use keras backend as theano, not tensorflow\n",
    "import pandas as pd\n",
    "import matplotlib.pyplot as plt\n",
    "from pandas.plotting import scatter_matrix\n",
    "from matplotlib import rcParams\n",
    "from kerutils import *\n",
    "rcParams['figure.figsize'] = 10,7\n",
    "rcParams['axes.grid'] = True\n",
    "\n",
    "#$pip install kerutils==1.21\n",
    "# Our deep learning library is Keras\n",
    "from keras.models import Sequential\n",
    "from keras.layers.core import Dense, Dropout\n",
    "from keras.models import load_model\n",
    "from keras.regularizers import l2\n",
    "from keras.utils import np_utils\n",
    "import numpy as np\n",
    "# fixed random seed for reproducibility\n",
    "np.random.seed(0)\n",
    "import sys\n",
    "sys.path.append(\"c:/ml/lib\")\n",
    "#from kerutils import *\n",
    "#from imageio import imread\n",
    "%matplotlib inline\n"
   ]
  },
  {
   "cell_type": "code",
   "execution_count": 4,
   "metadata": {},
   "outputs": [],
   "source": [
    "features = ['year', 't1', 't2', 't3', 't4', 't5', 't6', 't7', 't8', 't9', 't10', 't11', 't12', 't13', 't14', 't15', 't16', 't17', 't18', 't1 9', 't20', 't21', 't22', 't23', 't24', 't25', 't26', 't27', 't28', 't29', 't30', 't31', 't32', 't33', 't34', 't35', 't36 ', 't37', 't38', 't39', 't40', 't41', 't42', 't43', 't44', 't45', 't46', 't47', 't48', 't49', 't50', 't51', 't52', 't53' , 't54', 't55', 't56', 't57', 't58', 't59', 't60', 't61', 't62', 't63', 't64', 't65', 't66', 't67', 't68', 't69', 't70', 't71', 't72', 't73', 't74', 't75', 't76', 't77', 't78', 't79', 't80', 't81', 't82', 't83', 't84', 't85', 't86', 't87', 't88', 't89', 't90']\n",
    "\n",
    "# Note that our classes (which we have to predict from those 90 features), are all\n",
    "# the years from 1922 to 2011: 1922, 1923, 1924, 1925, ..., 2011\n",
    "# Theare exactly 90 years, so we also have 90 classes:\n",
    "nb_classes = 90"
   ]
  },
  {
   "cell_type": "code",
   "execution_count": 5,
   "metadata": {},
   "outputs": [],
   "source": [
    "# The following line loads our database into a Pandas DataFrame object\n",
    "\n",
    "data = pd.read_csv('YearPredictionMSD.txt', names=features)"
   ]
  },
  {
   "cell_type": "code",
   "execution_count": 6,
   "metadata": {},
   "outputs": [
    {
     "name": "stderr",
     "output_type": "stream",
     "text": [
      "/opt/anaconda3/envs/py27/lib/python2.7/site-packages/ipykernel_launcher.py:1: DeprecationWarning: \n",
      ".ix is deprecated. Please use\n",
      ".loc for label based indexing or\n",
      ".iloc for positional indexing\n",
      "\n",
      "See the documentation here:\n",
      "http://pandas.pydata.org/pandas-docs/stable/indexing.html#ix-indexer-is-deprecated\n",
      "  \"\"\"Entry point for launching an IPython kernel.\n"
     ]
    },
    {
     "data": {
      "text/html": [
       "<div>\n",
       "<style scoped>\n",
       "    .dataframe tbody tr th:only-of-type {\n",
       "        vertical-align: middle;\n",
       "    }\n",
       "\n",
       "    .dataframe tbody tr th {\n",
       "        vertical-align: top;\n",
       "    }\n",
       "\n",
       "    .dataframe thead th {\n",
       "        text-align: right;\n",
       "    }\n",
       "</style>\n",
       "<table border=\"1\" class=\"dataframe\">\n",
       "  <thead>\n",
       "    <tr style=\"text-align: right;\">\n",
       "      <th></th>\n",
       "      <th>year</th>\n",
       "      <th>t1</th>\n",
       "      <th>t2</th>\n",
       "      <th>t3</th>\n",
       "      <th>t4</th>\n",
       "      <th>t5</th>\n",
       "      <th>t6</th>\n",
       "      <th>t7</th>\n",
       "      <th>t8</th>\n",
       "      <th>t9</th>\n",
       "    </tr>\n",
       "  </thead>\n",
       "  <tbody>\n",
       "    <tr>\n",
       "      <th>100</th>\n",
       "      <td>2008</td>\n",
       "      <td>36.57341</td>\n",
       "      <td>40.76354</td>\n",
       "      <td>-1.37479</td>\n",
       "      <td>18.26958</td>\n",
       "      <td>-7.85506</td>\n",
       "      <td>-12.91930</td>\n",
       "      <td>15.95326</td>\n",
       "      <td>13.05346</td>\n",
       "      <td>-10.98357</td>\n",
       "    </tr>\n",
       "    <tr>\n",
       "      <th>101</th>\n",
       "      <td>2009</td>\n",
       "      <td>47.57913</td>\n",
       "      <td>44.00216</td>\n",
       "      <td>-20.86854</td>\n",
       "      <td>15.68389</td>\n",
       "      <td>0.28155</td>\n",
       "      <td>-12.98692</td>\n",
       "      <td>8.40916</td>\n",
       "      <td>8.45960</td>\n",
       "      <td>-15.20321</td>\n",
       "    </tr>\n",
       "    <tr>\n",
       "      <th>102</th>\n",
       "      <td>2009</td>\n",
       "      <td>50.01514</td>\n",
       "      <td>85.99753</td>\n",
       "      <td>-10.86962</td>\n",
       "      <td>-16.04817</td>\n",
       "      <td>-5.21407</td>\n",
       "      <td>-19.06423</td>\n",
       "      <td>0.60184</td>\n",
       "      <td>4.70044</td>\n",
       "      <td>-3.45756</td>\n",
       "    </tr>\n",
       "    <tr>\n",
       "      <th>103</th>\n",
       "      <td>2009</td>\n",
       "      <td>47.46427</td>\n",
       "      <td>38.57579</td>\n",
       "      <td>-16.62851</td>\n",
       "      <td>-8.74569</td>\n",
       "      <td>-17.57472</td>\n",
       "      <td>-20.53645</td>\n",
       "      <td>8.71748</td>\n",
       "      <td>-2.62025</td>\n",
       "      <td>0.75556</td>\n",
       "    </tr>\n",
       "    <tr>\n",
       "      <th>104</th>\n",
       "      <td>2008</td>\n",
       "      <td>42.40756</td>\n",
       "      <td>30.87384</td>\n",
       "      <td>-53.31370</td>\n",
       "      <td>75.21764</td>\n",
       "      <td>13.45603</td>\n",
       "      <td>10.56135</td>\n",
       "      <td>4.32810</td>\n",
       "      <td>20.33905</td>\n",
       "      <td>2.81100</td>\n",
       "    </tr>\n",
       "    <tr>\n",
       "      <th>105</th>\n",
       "      <td>2008</td>\n",
       "      <td>42.93189</td>\n",
       "      <td>17.33496</td>\n",
       "      <td>-14.89457</td>\n",
       "      <td>30.36314</td>\n",
       "      <td>-30.71208</td>\n",
       "      <td>-14.58057</td>\n",
       "      <td>-0.86303</td>\n",
       "      <td>-6.77871</td>\n",
       "      <td>7.45277</td>\n",
       "    </tr>\n",
       "    <tr>\n",
       "      <th>106</th>\n",
       "      <td>2008</td>\n",
       "      <td>47.25722</td>\n",
       "      <td>76.94691</td>\n",
       "      <td>33.35870</td>\n",
       "      <td>22.21808</td>\n",
       "      <td>24.60699</td>\n",
       "      <td>-13.97433</td>\n",
       "      <td>-1.26071</td>\n",
       "      <td>4.90241</td>\n",
       "      <td>-7.64389</td>\n",
       "    </tr>\n",
       "    <tr>\n",
       "      <th>107</th>\n",
       "      <td>2008</td>\n",
       "      <td>51.47089</td>\n",
       "      <td>24.49163</td>\n",
       "      <td>10.80634</td>\n",
       "      <td>-5.68605</td>\n",
       "      <td>-2.73621</td>\n",
       "      <td>-23.88744</td>\n",
       "      <td>-3.49063</td>\n",
       "      <td>-1.26504</td>\n",
       "      <td>5.07964</td>\n",
       "    </tr>\n",
       "    <tr>\n",
       "      <th>108</th>\n",
       "      <td>2008</td>\n",
       "      <td>45.90578</td>\n",
       "      <td>74.56383</td>\n",
       "      <td>-3.78965</td>\n",
       "      <td>12.39632</td>\n",
       "      <td>23.83092</td>\n",
       "      <td>-26.01724</td>\n",
       "      <td>5.72196</td>\n",
       "      <td>-3.25670</td>\n",
       "      <td>5.24608</td>\n",
       "    </tr>\n",
       "    <tr>\n",
       "      <th>109</th>\n",
       "      <td>2008</td>\n",
       "      <td>50.54486</td>\n",
       "      <td>44.66363</td>\n",
       "      <td>21.59233</td>\n",
       "      <td>0.63973</td>\n",
       "      <td>18.81458</td>\n",
       "      <td>-31.82536</td>\n",
       "      <td>11.59790</td>\n",
       "      <td>8.54721</td>\n",
       "      <td>-6.26381</td>\n",
       "    </tr>\n",
       "    <tr>\n",
       "      <th>110</th>\n",
       "      <td>2007</td>\n",
       "      <td>44.90167</td>\n",
       "      <td>5.02397</td>\n",
       "      <td>-4.65443</td>\n",
       "      <td>-15.14147</td>\n",
       "      <td>-11.70534</td>\n",
       "      <td>-0.29816</td>\n",
       "      <td>-11.07893</td>\n",
       "      <td>-0.04177</td>\n",
       "      <td>14.06437</td>\n",
       "    </tr>\n",
       "  </tbody>\n",
       "</table>\n",
       "</div>"
      ],
      "text/plain": [
       "     year        t1        t2        t3        t4        t5        t6  \\\n",
       "100  2008  36.57341  40.76354  -1.37479  18.26958  -7.85506 -12.91930   \n",
       "101  2009  47.57913  44.00216 -20.86854  15.68389   0.28155 -12.98692   \n",
       "102  2009  50.01514  85.99753 -10.86962 -16.04817  -5.21407 -19.06423   \n",
       "103  2009  47.46427  38.57579 -16.62851  -8.74569 -17.57472 -20.53645   \n",
       "104  2008  42.40756  30.87384 -53.31370  75.21764  13.45603  10.56135   \n",
       "105  2008  42.93189  17.33496 -14.89457  30.36314 -30.71208 -14.58057   \n",
       "106  2008  47.25722  76.94691  33.35870  22.21808  24.60699 -13.97433   \n",
       "107  2008  51.47089  24.49163  10.80634  -5.68605  -2.73621 -23.88744   \n",
       "108  2008  45.90578  74.56383  -3.78965  12.39632  23.83092 -26.01724   \n",
       "109  2008  50.54486  44.66363  21.59233   0.63973  18.81458 -31.82536   \n",
       "110  2007  44.90167   5.02397  -4.65443 -15.14147 -11.70534  -0.29816   \n",
       "\n",
       "           t7        t8        t9  \n",
       "100  15.95326  13.05346 -10.98357  \n",
       "101   8.40916   8.45960 -15.20321  \n",
       "102   0.60184   4.70044  -3.45756  \n",
       "103   8.71748  -2.62025   0.75556  \n",
       "104   4.32810  20.33905   2.81100  \n",
       "105  -0.86303  -6.77871   7.45277  \n",
       "106  -1.26071   4.90241  -7.64389  \n",
       "107  -3.49063  -1.26504   5.07964  \n",
       "108   5.72196  -3.25670   5.24608  \n",
       "109  11.59790   8.54721  -6.26381  \n",
       "110 -11.07893  -0.04177  14.06437  "
      ]
     },
     "execution_count": 6,
     "metadata": {},
     "output_type": "execute_result"
    }
   ],
   "source": [
    "data.ix[100:110, 0:10]"
   ]
  },
  {
   "cell_type": "code",
   "execution_count": 7,
   "metadata": {},
   "outputs": [
    {
     "data": {
      "text/plain": [
       "(515345, 91)"
      ]
     },
     "execution_count": 7,
     "metadata": {},
     "output_type": "execute_result"
    }
   ],
   "source": [
    "# How many rows and columns do we have?\n",
    "\n",
    "data.shape"
   ]
  },
  {
   "cell_type": "code",
   "execution_count": 8,
   "metadata": {},
   "outputs": [
    {
     "name": "stdout",
     "output_type": "stream",
     "text": [
      "Year=1922, nsongs=6\n",
      "Year=1923, nsongs=0\n",
      "Year=1924, nsongs=5\n",
      "Year=1925, nsongs=7\n",
      "Year=1926, nsongs=19\n",
      "Year=1927, nsongs=42\n",
      "Year=1928, nsongs=52\n",
      "Year=1929, nsongs=93\n",
      "Year=1930, nsongs=40\n",
      "Year=1931, nsongs=35\n",
      "Year=1932, nsongs=11\n",
      "Year=1933, nsongs=6\n",
      "Year=1934, nsongs=29\n",
      "Year=1935, nsongs=24\n",
      "Year=1936, nsongs=25\n",
      "Year=1937, nsongs=28\n",
      "Year=1938, nsongs=19\n",
      "Year=1939, nsongs=35\n",
      "Year=1940, nsongs=52\n",
      "Year=1941, nsongs=32\n",
      "Year=1942, nsongs=24\n",
      "Year=1943, nsongs=14\n",
      "Year=1944, nsongs=15\n",
      "Year=1945, nsongs=30\n",
      "Year=1946, nsongs=29\n",
      "Year=1947, nsongs=57\n",
      "Year=1948, nsongs=43\n",
      "Year=1949, nsongs=60\n",
      "Year=1950, nsongs=83\n",
      "Year=1951, nsongs=74\n",
      "Year=1952, nsongs=77\n",
      "Year=1953, nsongs=133\n",
      "Year=1954, nsongs=123\n",
      "Year=1955, nsongs=275\n",
      "Year=1956, nsongs=565\n",
      "Year=1957, nsongs=597\n",
      "Year=1958, nsongs=583\n",
      "Year=1959, nsongs=592\n",
      "Year=1960, nsongs=424\n",
      "Year=1961, nsongs=571\n",
      "Year=1962, nsongs=605\n",
      "Year=1963, nsongs=902\n",
      "Year=1964, nsongs=945\n",
      "Year=1965, nsongs=1120\n",
      "Year=1966, nsongs=1377\n",
      "Year=1967, nsongs=1718\n",
      "Year=1968, nsongs=1867\n",
      "Year=1969, nsongs=2210\n",
      "Year=1970, nsongs=2349\n",
      "Year=1971, nsongs=2131\n",
      "Year=1972, nsongs=2288\n",
      "Year=1973, nsongs=2596\n",
      "Year=1974, nsongs=2184\n",
      "Year=1975, nsongs=2482\n",
      "Year=1976, nsongs=2179\n",
      "Year=1977, nsongs=2502\n",
      "Year=1978, nsongs=2926\n",
      "Year=1979, nsongs=3108\n",
      "Year=1980, nsongs=3101\n",
      "Year=1981, nsongs=3162\n",
      "Year=1982, nsongs=3597\n",
      "Year=1983, nsongs=3386\n",
      "Year=1984, nsongs=3368\n",
      "Year=1985, nsongs=3578\n",
      "Year=1986, nsongs=4219\n",
      "Year=1987, nsongs=5122\n",
      "Year=1988, nsongs=5611\n",
      "Year=1989, nsongs=6670\n",
      "Year=1990, nsongs=7256\n",
      "Year=1991, nsongs=8647\n",
      "Year=1992, nsongs=9543\n",
      "Year=1993, nsongs=10525\n",
      "Year=1994, nsongs=12121\n",
      "Year=1995, nsongs=13257\n",
      "Year=1996, nsongs=14130\n",
      "Year=1997, nsongs=15182\n",
      "Year=1998, nsongs=15814\n",
      "Year=1999, nsongs=18238\n",
      "Year=2000, nsongs=19285\n",
      "Year=2001, nsongs=21590\n",
      "Year=2002, nsongs=23451\n",
      "Year=2003, nsongs=27382\n",
      "Year=2004, nsongs=29607\n",
      "Year=2005, nsongs=34952\n",
      "Year=2006, nsongs=37534\n",
      "Year=2007, nsongs=39404\n",
      "Year=2008, nsongs=34760\n",
      "Year=2009, nsongs=31038\n",
      "Year=2010, nsongs=9396\n",
      "Year=2011, nsongs=1\n"
     ]
    }
   ],
   "source": [
    "nsongs = {}\n",
    "for y in range(1922,2012):\n",
    "    nsongs[y] = len(data[data.year==y])\n",
    "    print(\"Year=%d, nsongs=%d\" % (y, nsongs[y]))"
   ]
  },
  {
   "cell_type": "code",
   "execution_count": 9,
   "metadata": {},
   "outputs": [
    {
     "data": {
      "text/plain": [
       "Text(0,0.5,'Number of songs')"
      ]
     },
     "execution_count": 9,
     "metadata": {},
     "output_type": "execute_result"
    },
    {
     "data": {
      "image/png": "[encoded data removed]",
      "text/plain": [
       "<Figure size 432x288 with 1 Axes>"
      ]
     },
     "metadata": {
      "needs_background": "light"
     },
     "output_type": "display_data"
    }
   ],
   "source": [
    "years = range(1922,2012)\n",
    "values = [nsongs[y] for y in years]\n",
    "plt.bar(years, values, align='center')\n",
    "plt.xlabel(\"Year\")\n",
    "plt.ylabel(\"Number of songs\")"
   ]
  },
  {
   "cell_type": "code",
   "execution_count": 10,
   "metadata": {},
   "outputs": [
    {
     "name": "stderr",
     "output_type": "stream",
     "text": [
      "/opt/anaconda3/envs/py27/lib/python2.7/site-packages/ipykernel_launcher.py:3: FutureWarning: Method .as_matrix will be removed in a future version. Use .values instead.\n",
      "  This is separate from the ipykernel package so we can avoid doing imports until\n"
     ]
    },
    {
     "data": {
      "text/plain": [
       "<matplotlib.legend.Legend at 0x1331bf2d0>"
      ]
     },
     "execution_count": 10,
     "metadata": {},
     "output_type": "execute_result"
    },
    {
     "data": {
      "image/png": "[encoded data removed]",
      "text/plain": [
       "<Figure size 432x288 with 1 Axes>"
      ]
     },
     "metadata": {
      "needs_background": "light"
     },
     "output_type": "display_data"
    }
   ],
   "source": [
    "#Distribution of first 10 features\n",
    "for t in features[1:11]:\n",
    "    values = data[t].as_matrix()\n",
    "    plt.plot(sorted(values), label=t, linewidth=1)\n",
    "\n",
    "plt.legend(loc='upper center', bbox_to_anchor=(0.4, 1.04), ncol=3, fancybox=True, shadow=True)"
   ]
  },
  {
   "cell_type": "code",
   "execution_count": 11,
   "metadata": {},
   "outputs": [
    {
     "name": "stderr",
     "output_type": "stream",
     "text": [
      "/opt/anaconda3/envs/py27/lib/python2.7/site-packages/ipykernel_launcher.py:2: FutureWarning: Method .as_matrix will be removed in a future version. Use .values instead.\n",
      "  \n",
      "/opt/anaconda3/envs/py27/lib/python2.7/site-packages/ipykernel_launcher.py:3: FutureWarning: Method .as_matrix will be removed in a future version. Use .values instead.\n",
      "  This is separate from the ipykernel package so we can avoid doing imports until\n"
     ]
    }
   ],
   "source": [
    "#Most neural practiotioners suggest that for a more efficient neural-network we should normalize these values to the unit interval [0,1]\n",
    "X = data.iloc[:,1:].as_matrix()  # this is the 90 columns without the year\n",
    "Y = data.iloc[:,0].as_matrix()   # this is the year column\n",
    "\n",
    "# data normalizations (scaling down all values to the interval [0,1])\n",
    "# The years 1922-2011 are scaled down to integers [0,1,2,..., 89] \n",
    "a = X.min()\n",
    "b = X.max()\n",
    "X = (X - a) / (b - a)  # all values now between 0 and 1 !\n",
    "Y = Y - Y.min()        # The years 1922-2011 are mapped to 0-89\n",
    "\n",
    "# Training data set\n",
    "X_train = X[0:463715]\n",
    "y_train = Y[0:463715]\n",
    "\n",
    "# Validation data set\n",
    "X_test = X[463715:]\n",
    "y_test = Y[463715:]"
   ]
  },
  {
   "cell_type": "code",
   "execution_count": 12,
   "metadata": {},
   "outputs": [
    {
     "data": {
      "text/plain": [
       "<matplotlib.legend.Legend at 0x139fe8a90>"
      ]
     },
     "execution_count": 12,
     "metadata": {},
     "output_type": "execute_result"
    },
    {
     "data": {
      "image/png": "[encoded data removed]",
      "text/plain": [
       "<Figure size 432x288 with 1 Axes>"
      ]
     },
     "metadata": {
      "needs_background": "light"
     },
     "output_type": "display_data"
    }
   ],
   "source": [
    "for i in range(1600, 1640):\n",
    "    plt.plot(X_train[i], label='song_' + str(i))\n",
    "    \n",
    "plt.xlabel(\"Feature\")\n",
    "plt.ylabel(\"Value\")\n",
    "plt.legend(loc='upper center', bbox_to_anchor=(0.8, 0.9), ncol=5, fancybox=True, shadow=True, fontsize=7)"
   ]
  },
  {
   "cell_type": "code",
   "execution_count": 13,
   "metadata": {},
   "outputs": [
    {
     "data": {
      "text/plain": [
       "[<matplotlib.lines.Line2D at 0x133634650>]"
      ]
     },
     "execution_count": 13,
     "metadata": {},
     "output_type": "execute_result"
    },
    {
     "data": {
      "image/png": "[encoded data removed]",
      "text/plain": [
       "<Figure size 432x288 with 1 Axes>"
      ]
     },
     "metadata": {
      "needs_background": "light"
     },
     "output_type": "display_data"
    }
   ],
   "source": [
    "plt.plot(sorted(y_train))"
   ]
  },
  {
   "cell_type": "code",
   "execution_count": 14,
   "metadata": {},
   "outputs": [],
   "source": [
    "Y_train = np_utils.to_categorical(y_train, nb_classes)\n",
    "Y_test = np_utils.to_categorical(y_test, nb_classes)\n",
    "#utils. to_categorical is used to convert \n",
    "#array of labeled data(from 0 to nb_classes-1) to one-hot vector. "
   ]
  },
  {
   "cell_type": "code",
   "execution_count": 15,
   "metadata": {},
   "outputs": [
    {
     "name": "stderr",
     "output_type": "stream",
     "text": [
      "/opt/anaconda3/envs/py27/lib/python2.7/site-packages/ipykernel_launcher.py:4: UserWarning: Update your `Dense` call to the Keras 2 API: `Dense(90, activation=\"softmax\", kernel_initializer=\"uniform\")`\n",
      "  after removing the cwd from sys.path.\n"
     ]
    }
   ],
   "source": [
    "# Our first Keras Model\n",
    "model1 = Sequential()\n",
    "model1.add(Dense(90, input_shape=(90,)))\n",
    "model1.add(Dense(90, init='uniform', activation='softmax'))"
   ]
  },
  {
   "cell_type": "code",
   "execution_count": 16,
   "metadata": {},
   "outputs": [],
   "source": [
    "model1.compile(loss='binary_crossentropy', optimizer='adam', metrics=['accuracy'])"
   ]
  },
  {
   "cell_type": "code",
   "execution_count": 17,
   "metadata": {},
   "outputs": [],
   "source": [
    "def show_scores(model, h):\n",
    "    loss, acc = model.evaluate(X_train, Y_train, verbose=0)\n",
    "    print(\"Training: accuracy   = %.6f loss = %.6f\" % (acc, loss))\n",
    "    loss, acc = model.evaluate(X_test, Y_test, verbose=0)\n",
    "    print(\"Validation: accuracy = %.6f loss = %.6f\" % (acc, loss))\n",
    "    print(\"Over fitting score   = %.6f\" % over_fitting_score(h))\n",
    "    print(\"Under fitting score  = %.6f\" % under_fitting_score(h))\n",
    "    view_acc(h)\n",
    "    plt.show()\n",
    "    view_loss(h)\n",
    "    plt.show()"
   ]
  },
  {
   "cell_type": "code",
   "execution_count": null,
   "metadata": {},
   "outputs": [],
   "source": []
  },
  {
   "cell_type": "code",
   "execution_count": null,
   "metadata": {},
   "outputs": [],
   "source": []
  },
  {
   "cell_type": "code",
   "execution_count": 24,
   "metadata": {
    "scrolled": true
   },
   "outputs": [
    {
     "name": "stdout",
     "output_type": "stream",
     "text": [
      "Training: accuracy   = 0.988996 loss = 0.048575\n",
      "Validation: accuracy = 0.988891 loss = 0.048522\n"
     ]
    },
    {
     "ename": "NameError",
     "evalue": "global name 'over_fitting_score' is not defined",
     "output_type": "error",
     "traceback": [
      "\u001b[0;31m---------------------------------------------------------------------------\u001b[0m",
      "\u001b[0;31mNameError\u001b[0m                                 Traceback (most recent call last)",
      "\u001b[0;32m<ipython-input-24-a4c8cc56fd4a>\u001b[0m in \u001b[0;36m<module>\u001b[0;34m()\u001b[0m\n\u001b[1;32m     11\u001b[0m )\n\u001b[1;32m     12\u001b[0m \u001b[0;34m\u001b[0m\u001b[0m\n\u001b[0;32m---> 13\u001b[0;31m \u001b[0mshow_scores\u001b[0m\u001b[0;34m(\u001b[0m\u001b[0mmodel1\u001b[0m\u001b[0;34m,\u001b[0m \u001b[0mh\u001b[0m\u001b[0;34m)\u001b[0m\u001b[0;34m\u001b[0m\u001b[0m\n\u001b[0m",
      "\u001b[0;32m<ipython-input-17-552fac263905>\u001b[0m in \u001b[0;36mshow_scores\u001b[0;34m(model, h)\u001b[0m\n\u001b[1;32m      4\u001b[0m     \u001b[0mloss\u001b[0m\u001b[0;34m,\u001b[0m \u001b[0macc\u001b[0m \u001b[0;34m=\u001b[0m \u001b[0mmodel\u001b[0m\u001b[0;34m.\u001b[0m\u001b[0mevaluate\u001b[0m\u001b[0;34m(\u001b[0m\u001b[0mX_test\u001b[0m\u001b[0;34m,\u001b[0m \u001b[0mY_test\u001b[0m\u001b[0;34m,\u001b[0m \u001b[0mverbose\u001b[0m\u001b[0;34m=\u001b[0m\u001b[0;36m0\u001b[0m\u001b[0;34m)\u001b[0m\u001b[0;34m\u001b[0m\u001b[0m\n\u001b[1;32m      5\u001b[0m     \u001b[0;32mprint\u001b[0m\u001b[0;34m(\u001b[0m\u001b[0;34m\"Validation: accuracy = %.6f loss = %.6f\"\u001b[0m \u001b[0;34m%\u001b[0m \u001b[0;34m(\u001b[0m\u001b[0macc\u001b[0m\u001b[0;34m,\u001b[0m \u001b[0mloss\u001b[0m\u001b[0;34m)\u001b[0m\u001b[0;34m)\u001b[0m\u001b[0;34m\u001b[0m\u001b[0m\n\u001b[0;32m----> 6\u001b[0;31m     \u001b[0;32mprint\u001b[0m\u001b[0;34m(\u001b[0m\u001b[0;34m\"Over fitting score   = %.6f\"\u001b[0m \u001b[0;34m%\u001b[0m \u001b[0mover_fitting_score\u001b[0m\u001b[0;34m(\u001b[0m\u001b[0mh\u001b[0m\u001b[0;34m)\u001b[0m\u001b[0;34m)\u001b[0m\u001b[0;34m\u001b[0m\u001b[0m\n\u001b[0m\u001b[1;32m      7\u001b[0m     \u001b[0;32mprint\u001b[0m\u001b[0;34m(\u001b[0m\u001b[0;34m\"Under fitting score  = %.6f\"\u001b[0m \u001b[0;34m%\u001b[0m \u001b[0munder_fitting_score\u001b[0m\u001b[0;34m(\u001b[0m\u001b[0mh\u001b[0m\u001b[0;34m)\u001b[0m\u001b[0;34m)\u001b[0m\u001b[0;34m\u001b[0m\u001b[0m\n\u001b[1;32m      8\u001b[0m     \u001b[0mview_acc\u001b[0m\u001b[0;34m(\u001b[0m\u001b[0mh\u001b[0m\u001b[0;34m)\u001b[0m\u001b[0;34m\u001b[0m\u001b[0m\n",
      "\u001b[0;31mNameError\u001b[0m: global name 'over_fitting_score' is not defined"
     ]
    }
   ],
   "source": [
    "#fmon = FitMonitor(thresh=0.02, minacc=0.90, filename=\"model1.h5\")\n",
    "\n",
    "h = model1.fit(\n",
    "    X_train,\n",
    "    Y_train,\n",
    "    batch_size=128,\n",
    "    epochs=20,\n",
    "    verbose=0,\n",
    "    validation_data=(X_test, Y_test),\n",
    "    #callbacks = [fmon]\n",
    ")\n",
    "\n",
    "show_scores(model1, h)"
   ]
  },
  {
   "cell_type": "code",
   "execution_count": 25,
   "metadata": {},
   "outputs": [
    {
     "name": "stdout",
     "output_type": "stream",
     "text": [
      "Train: accuracy=0.988996 loss=0.048575\n"
     ]
    }
   ],
   "source": [
    "# Validating the accuracy and loss of our training set\n",
    "\n",
    "loss, accuracy = model1.evaluate(X_train, Y_train, verbose=0)\n",
    "print \"Train: accuracy=%f loss=%f\" % (accuracy, loss)"
   ]
  },
  {
   "cell_type": "code",
   "execution_count": 26,
   "metadata": {},
   "outputs": [
    {
     "name": "stdout",
     "output_type": "stream",
     "text": [
      "Test: accuracy=0.988891 loss=0.048522\n"
     ]
    }
   ],
   "source": [
    "# Validating the accuracy and loss of our testing set\n",
    "\n",
    "loss, accuracy = model1.evaluate(X_test, Y_test, verbose=0)\n",
    "print \"Test: accuracy=%f loss=%f\" % (accuracy, loss)"
   ]
  },
  {
   "cell_type": "code",
   "execution_count": 27,
   "metadata": {},
   "outputs": [
    {
     "name": "stderr",
     "output_type": "stream",
     "text": [
      "/opt/anaconda3/envs/py27/lib/python2.7/site-packages/ipykernel_launcher.py:5: UserWarning: Update your `Dense` call to the Keras 2 API: `Dense(360, activation=\"relu\", kernel_initializer=\"uniform\")`\n",
      "  \"\"\"\n",
      "/opt/anaconda3/envs/py27/lib/python2.7/site-packages/ipykernel_launcher.py:7: UserWarning: Update your `Dense` call to the Keras 2 API: `Dense(360, activation=\"relu\", kernel_initializer=\"uniform\")`\n",
      "  import sys\n",
      "/opt/anaconda3/envs/py27/lib/python2.7/site-packages/ipykernel_launcher.py:9: UserWarning: Update your `Dense` call to the Keras 2 API: `Dense(90, activation=\"sigmoid\", kernel_initializer=\"uniform\")`\n",
      "  if __name__ == '__main__':\n",
      "/opt/anaconda3/envs/py27/lib/python2.7/site-packages/ipykernel_launcher.py:19: UserWarning: The `nb_epoch` argument in `fit` has been renamed `epochs`.\n"
     ]
    },
    {
     "name": "stdout",
     "output_type": "stream",
     "text": [
      "Training: accuracy   = 0.988996 loss = 0.048874\n",
      "Validation: accuracy = 0.988891 loss = 0.048801\n"
     ]
    },
    {
     "ename": "NameError",
     "evalue": "global name 'over_fitting_score' is not defined",
     "output_type": "error",
     "traceback": [
      "\u001b[0;31m---------------------------------------------------------------------------\u001b[0m",
      "\u001b[0;31mNameError\u001b[0m                                 Traceback (most recent call last)",
      "\u001b[0;32m<ipython-input-27-86ea229dc8e6>\u001b[0m in \u001b[0;36m<module>\u001b[0;34m()\u001b[0m\n\u001b[1;32m     21\u001b[0m )\n\u001b[1;32m     22\u001b[0m \u001b[0;34m\u001b[0m\u001b[0m\n\u001b[0;32m---> 23\u001b[0;31m \u001b[0mshow_scores\u001b[0m\u001b[0;34m(\u001b[0m\u001b[0mmodel2\u001b[0m\u001b[0;34m,\u001b[0m \u001b[0mh\u001b[0m\u001b[0;34m)\u001b[0m\u001b[0;34m\u001b[0m\u001b[0m\n\u001b[0m",
      "\u001b[0;32m<ipython-input-17-552fac263905>\u001b[0m in \u001b[0;36mshow_scores\u001b[0;34m(model, h)\u001b[0m\n\u001b[1;32m      4\u001b[0m     \u001b[0mloss\u001b[0m\u001b[0;34m,\u001b[0m \u001b[0macc\u001b[0m \u001b[0;34m=\u001b[0m \u001b[0mmodel\u001b[0m\u001b[0;34m.\u001b[0m\u001b[0mevaluate\u001b[0m\u001b[0;34m(\u001b[0m\u001b[0mX_test\u001b[0m\u001b[0;34m,\u001b[0m \u001b[0mY_test\u001b[0m\u001b[0;34m,\u001b[0m \u001b[0mverbose\u001b[0m\u001b[0;34m=\u001b[0m\u001b[0;36m0\u001b[0m\u001b[0;34m)\u001b[0m\u001b[0;34m\u001b[0m\u001b[0m\n\u001b[1;32m      5\u001b[0m     \u001b[0;32mprint\u001b[0m\u001b[0;34m(\u001b[0m\u001b[0;34m\"Validation: accuracy = %.6f loss = %.6f\"\u001b[0m \u001b[0;34m%\u001b[0m \u001b[0;34m(\u001b[0m\u001b[0macc\u001b[0m\u001b[0;34m,\u001b[0m \u001b[0mloss\u001b[0m\u001b[0;34m)\u001b[0m\u001b[0;34m)\u001b[0m\u001b[0;34m\u001b[0m\u001b[0m\n\u001b[0;32m----> 6\u001b[0;31m     \u001b[0;32mprint\u001b[0m\u001b[0;34m(\u001b[0m\u001b[0;34m\"Over fitting score   = %.6f\"\u001b[0m \u001b[0;34m%\u001b[0m \u001b[0mover_fitting_score\u001b[0m\u001b[0;34m(\u001b[0m\u001b[0mh\u001b[0m\u001b[0;34m)\u001b[0m\u001b[0;34m)\u001b[0m\u001b[0;34m\u001b[0m\u001b[0m\n\u001b[0m\u001b[1;32m      7\u001b[0m     \u001b[0;32mprint\u001b[0m\u001b[0;34m(\u001b[0m\u001b[0;34m\"Under fitting score  = %.6f\"\u001b[0m \u001b[0;34m%\u001b[0m \u001b[0munder_fitting_score\u001b[0m\u001b[0;34m(\u001b[0m\u001b[0mh\u001b[0m\u001b[0;34m)\u001b[0m\u001b[0;34m)\u001b[0m\u001b[0;34m\u001b[0m\u001b[0m\n\u001b[1;32m      8\u001b[0m     \u001b[0mview_acc\u001b[0m\u001b[0;34m(\u001b[0m\u001b[0mh\u001b[0m\u001b[0;34m)\u001b[0m\u001b[0;34m\u001b[0m\u001b[0m\n",
      "\u001b[0;31mNameError\u001b[0m: global name 'over_fitting_score' is not defined"
     ]
    }
   ],
   "source": [
    "# Second Keras Model\n",
    "model2 = Sequential()\n",
    "model2.add(Dense(180, input_shape=(90,)))\n",
    "model2.add(Dropout(0.2))\n",
    "model2.add(Dense(360, init='uniform', activation='relu'))\n",
    "model2.add(Dropout(0.2))\n",
    "model2.add(Dense(360, init='uniform', activation='relu'))\n",
    "model2.add(Dropout(0.2))\n",
    "model2.add(Dense(90, init='uniform', activation='sigmoid'))\n",
    "\n",
    "model2.compile(loss='binary_crossentropy', optimizer='adam', metrics=['accuracy'])\n",
    "#fmon = FitMonitor(thresh=0.02, minacc=0.99, filename=\"model2.h5\")\n",
    "h = model2.fit(\n",
    "    X_train,\n",
    "    Y_train,\n",
    "    batch_size=128,\n",
    "    epochs=10,\n",
    "    verbose=0,\n",
    "    validation_data=(X_test, Y_test),\n",
    "    #callbacks = [fmon]\n",
    ")\n",
    "\n",
    "show_scores(model2, h)"
   ]
  },
  {
   "cell_type": "code",
   "execution_count": null,
   "metadata": {},
   "outputs": [],
   "source": [
    "# Let's save our model just in case we'll need later for testing (or for post mortem analysis)\n",
    "#model2.save('model2_final.h5')"
   ]
  },
  {
   "cell_type": "code",
   "execution_count": 28,
   "metadata": {},
   "outputs": [],
   "source": [
    "P = model2.predict_classes(X_train)"
   ]
  },
  {
   "cell_type": "code",
   "execution_count": 29,
   "metadata": {},
   "outputs": [],
   "source": [
    "Failed = []\n",
    "for i in range(len(P)):\n",
    "    if y_train[i] != P[i]:\n",
    "        Failed.append(i)"
   ]
  },
  {
   "cell_type": "code",
   "execution_count": 30,
   "metadata": {},
   "outputs": [
    {
     "name": "stdout",
     "output_type": "stream",
     "text": [
      "463715/463715 [==============================] - 21s 45us/step\n"
     ]
    }
   ],
   "source": [
    "loss = model2.evaluate(X_train, Y_train)"
   ]
  },
  {
   "cell_type": "code",
   "execution_count": null,
   "metadata": {},
   "outputs": [],
   "source": [
    "#Credits: https://samyzaf.com/ML/song_year/song_year.html"
   ]
  }
 ],
 "metadata": {
  "kernelspec": {
   "display_name": "Python 2",
   "language": "python",
   "name": "python2"
  },
  "language_info": {
   "codemirror_mode": {
    "name": "ipython",
    "version": 2
   },
   "file_extension": ".py",
   "mimetype": "text/x-python",
   "name": "python",
   "nbconvert_exporter": "python",
   "pygments_lexer": "ipython2",
   "version": "2.7.17"
  }
 },
 "nbformat": 4,
 "nbformat_minor": 2
}
